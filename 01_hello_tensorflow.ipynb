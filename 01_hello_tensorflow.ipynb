{
 "cells": [
  {
   "cell_type": "code",
   "execution_count": 1,
   "id": "8919b0d5",
   "metadata": {},
   "outputs": [],
   "source": [
    "# Dependencies.\n",
    "import pandas as pd\n",
    "import matplotlib as plt\n",
    "from sklearn.datasets import make_blobs\n",
    "import sklearn as skl\n",
    "import tensorflow as tf"
   ]
  },
  {
   "cell_type": "code",
   "execution_count": 2,
   "id": "1432c7e4",
   "metadata": {},
   "outputs": [
    {
     "data": {
      "text/plain": [
       "<AxesSubplot:xlabel='Feature 1', ylabel='Feature 2'>"
      ]
     },
     "execution_count": 2,
     "metadata": {},
     "output_type": "execute_result"
    },
    {
     "data": {
      "image/png": "[encoded data removed]",
      "text/plain": [
       "<Figure size 432x288 with 2 Axes>"
      ]
     },
     "metadata": {
      "needs_background": "light"
     },
     "output_type": "display_data"
    }
   ],
   "source": [
    "# Generate the dummy dataset.\n",
    "X, y = make_blobs(n_samples=1000, centers=2, n_features=2, random_state=78)\n",
    "\n",
    "# Create a DataFrame from the dummy data.\n",
    "df = pd.DataFrame(X, columns=['Feature 1', 'Feature 2'])\n",
    "# Add the target variable column.\n",
    "df['Target'] = y\n",
    "\n",
    "# Plot data.\n",
    "df.plot.scatter(x='Feature 1', y='Feature 2', c='Target', colormap='winter')"
   ]
  },
  {
   "cell_type": "code",
   "execution_count": 3,
   "id": "34617d03",
   "metadata": {},
   "outputs": [],
   "source": [
    "# Split data into training and testing sets.\n",
    "from sklearn.model_selection import train_test_split\n",
    "X_train, X_test, y_train, y_test = train_test_split(X, y, random_state=78)"
   ]
  },
  {
   "cell_type": "code",
   "execution_count": 4,
   "id": "d5b8ece5",
   "metadata": {},
   "outputs": [],
   "source": [
    "# Scale the data, start with instance creation.\n",
    "X_scaler = skl.preprocessing.StandardScaler()\n",
    "\n",
    "# Fit scaler.\n",
    "X_scaler.fit(X_train)\n",
    "\n",
    "# Scale the data.\n",
    "X_train_scaled = X_scaler.transform(X_train)\n",
    "X_test_scaled = X_scaler.transform(X_test)"
   ]
  },
  {
   "cell_type": "code",
   "execution_count": 5,
   "id": "e980c823",
   "metadata": {},
   "outputs": [],
   "source": [
    "# Create Keras Sequential model.\n",
    "nn_model = tf.keras.models.Sequential()"
   ]
  },
  {
   "cell_type": "code",
   "execution_count": 6,
   "id": "583aa152",
   "metadata": {},
   "outputs": [],
   "source": [
    "# Add our first Dense layer, including the input layer.\n",
    "nn_model.add(tf.keras.layers.Dense(units=1, activation='relu', input_dim=2))"
   ]
  },
  {
   "cell_type": "code",
   "execution_count": 7,
   "id": "544f5b4b",
   "metadata": {},
   "outputs": [],
   "source": [
    "# Create the Dense output layer, with probability activation function.\n",
    "nn_model.add(tf.keras.layers.Dense(units=1, activation='sigmoid'))"
   ]
  },
  {
   "cell_type": "code",
   "execution_count": 8,
   "id": "d8ee1c35",
   "metadata": {},
   "outputs": [
    {
     "name": "stdout",
     "output_type": "stream",
     "text": [
      "Model: \"sequential\"\n",
      "_________________________________________________________________\n",
      "Layer (type)                 Output Shape              Param #   \n",
      "=================================================================\n",
      "dense (Dense)                (None, 1)                 3         \n",
      "_________________________________________________________________\n",
      "dense_1 (Dense)              (None, 1)                 2         \n",
      "=================================================================\n",
      "Total params: 5\n",
      "Trainable params: 5\n",
      "Non-trainable params: 0\n",
      "_________________________________________________________________\n"
     ]
    }
   ],
   "source": [
    "# Check the structure of the Sequential model.\n",
    "nn_model.summary()"
   ]
  },
  {
   "cell_type": "code",
   "execution_count": 9,
   "id": "15961da2",
   "metadata": {},
   "outputs": [],
   "source": [
    "# Compile the Sequential model together and customize metrics.\n",
    "nn_model.compile(loss='binary_crossentropy', optimizer='adam', metrics=['accuracy'])"
   ]
  },
  {
   "cell_type": "code",
   "execution_count": 10,
   "id": "3e90d939",
   "metadata": {},
   "outputs": [
    {
     "name": "stdout",
     "output_type": "stream",
     "text": [
      "Epoch 1/100\n",
      "24/24 [==============================] - 0s 434us/step - loss: 0.7269 - accuracy: 0.4587\n",
      "Epoch 2/100\n",
      "24/24 [==============================] - 0s 434us/step - loss: 0.7161 - accuracy: 0.2907\n",
      "Epoch 3/100\n",
      "24/24 [==============================] - 0s 390us/step - loss: 0.7082 - accuracy: 0.3707\n",
      "Epoch 4/100\n",
      "24/24 [==============================] - 0s 390us/step - loss: 0.7019 - accuracy: 0.4427\n",
      "Epoch 5/100\n",
      "24/24 [==============================] - 0s 434us/step - loss: 0.6964 - accuracy: 0.4947\n",
      "Epoch 6/100\n",
      "24/24 [==============================] - 0s 434us/step - loss: 0.6910 - accuracy: 0.5547\n",
      "Epoch 7/100\n",
      "24/24 [==============================] - 0s 434us/step - loss: 0.6851 - accuracy: 0.6027\n",
      "Epoch 8/100\n",
      "24/24 [==============================] - 0s 390us/step - loss: 0.6785 - accuracy: 0.6413\n",
      "Epoch 9/100\n",
      "24/24 [==============================] - 0s 390us/step - loss: 0.6707 - accuracy: 0.6867\n",
      "Epoch 10/100\n",
      "24/24 [==============================] - 0s 434us/step - loss: 0.6610 - accuracy: 0.7227\n",
      "Epoch 11/100\n",
      "24/24 [==============================] - 0s 434us/step - loss: 0.6495 - accuracy: 0.7600\n",
      "Epoch 12/100\n",
      "24/24 [==============================] - 0s 390us/step - loss: 0.6364 - accuracy: 0.8000\n",
      "Epoch 13/100\n",
      "24/24 [==============================] - 0s 462us/step - loss: 0.6214 - accuracy: 0.8253\n",
      "Epoch 14/100\n",
      "24/24 [==============================] - 0s 390us/step - loss: 0.6054 - accuracy: 0.8520\n",
      "Epoch 15/100\n",
      "24/24 [==============================] - 0s 390us/step - loss: 0.5884 - accuracy: 0.8613\n",
      "Epoch 16/100\n",
      "24/24 [==============================] - 0s 434us/step - loss: 0.5711 - accuracy: 0.8747\n",
      "Epoch 17/100\n",
      "24/24 [==============================] - 0s 434us/step - loss: 0.5537 - accuracy: 0.8880\n",
      "Epoch 18/100\n",
      "24/24 [==============================] - 0s 390us/step - loss: 0.5364 - accuracy: 0.8973\n",
      "Epoch 19/100\n",
      "24/24 [==============================] - 0s 390us/step - loss: 0.5196 - accuracy: 0.9080\n",
      "Epoch 20/100\n",
      "24/24 [==============================] - 0s 390us/step - loss: 0.5031 - accuracy: 0.9120\n",
      "Epoch 21/100\n",
      "24/24 [==============================] - 0s 390us/step - loss: 0.4872 - accuracy: 0.9133\n",
      "Epoch 22/100\n",
      "24/24 [==============================] - 0s 390us/step - loss: 0.4719 - accuracy: 0.9253\n",
      "Epoch 23/100\n",
      "24/24 [==============================] - 0s 390us/step - loss: 0.4571 - accuracy: 0.9280\n",
      "Epoch 24/100\n",
      "24/24 [==============================] - 0s 390us/step - loss: 0.4428 - accuracy: 0.9333\n",
      "Epoch 25/100\n",
      "24/24 [==============================] - 0s 390us/step - loss: 0.4291 - accuracy: 0.9387\n",
      "Epoch 26/100\n",
      "24/24 [==============================] - 0s 434us/step - loss: 0.4160 - accuracy: 0.9413\n",
      "Epoch 27/100\n",
      "24/24 [==============================] - 0s 390us/step - loss: 0.4034 - accuracy: 0.9453\n",
      "Epoch 28/100\n",
      "24/24 [==============================] - 0s 390us/step - loss: 0.3914 - accuracy: 0.9493\n",
      "Epoch 29/100\n",
      "24/24 [==============================] - 0s 390us/step - loss: 0.3799 - accuracy: 0.9573\n",
      "Epoch 30/100\n",
      "24/24 [==============================] - 0s 434us/step - loss: 0.3688 - accuracy: 0.9600\n",
      "Epoch 31/100\n",
      "24/24 [==============================] - 0s 390us/step - loss: 0.3581 - accuracy: 0.9627\n",
      "Epoch 32/100\n",
      "24/24 [==============================] - 0s 397us/step - loss: 0.3479 - accuracy: 0.9640\n",
      "Epoch 33/100\n",
      "24/24 [==============================] - 0s 415us/step - loss: 0.3381 - accuracy: 0.9667\n",
      "Epoch 34/100\n",
      "24/24 [==============================] - 0s 434us/step - loss: 0.3287 - accuracy: 0.9667\n",
      "Epoch 35/100\n",
      "24/24 [==============================] - 0s 434us/step - loss: 0.3197 - accuracy: 0.9707\n",
      "Epoch 36/100\n",
      "24/24 [==============================] - 0s 390us/step - loss: 0.3110 - accuracy: 0.9733\n",
      "Epoch 37/100\n",
      "24/24 [==============================] - 0s 390us/step - loss: 0.3027 - accuracy: 0.9747\n",
      "Epoch 38/100\n",
      "24/24 [==============================] - 0s 390us/step - loss: 0.2945 - accuracy: 0.9747\n",
      "Epoch 39/100\n",
      "24/24 [==============================] - 0s 390us/step - loss: 0.2868 - accuracy: 0.9760\n",
      "Epoch 40/100\n",
      "24/24 [==============================] - 0s 390us/step - loss: 0.2793 - accuracy: 0.9760\n",
      "Epoch 41/100\n",
      "24/24 [==============================] - 0s 369us/step - loss: 0.2721 - accuracy: 0.9787\n",
      "Epoch 42/100\n",
      "24/24 [==============================] - 0s 390us/step - loss: 0.2652 - accuracy: 0.9813\n",
      "Epoch 43/100\n",
      "24/24 [==============================] - 0s 434us/step - loss: 0.2585 - accuracy: 0.9813\n",
      "Epoch 44/100\n",
      "24/24 [==============================] - 0s 434us/step - loss: 0.2520 - accuracy: 0.9827\n",
      "Epoch 45/100\n",
      "24/24 [==============================] - 0s 434us/step - loss: 0.2458 - accuracy: 0.9880\n",
      "Epoch 46/100\n",
      "24/24 [==============================] - 0s 390us/step - loss: 0.2398 - accuracy: 0.9893\n",
      "Epoch 47/100\n",
      "24/24 [==============================] - 0s 434us/step - loss: 0.2339 - accuracy: 0.9907\n",
      "Epoch 48/100\n",
      "24/24 [==============================] - 0s 434us/step - loss: 0.2282 - accuracy: 0.9907\n",
      "Epoch 49/100\n",
      "24/24 [==============================] - 0s 434us/step - loss: 0.2228 - accuracy: 0.9907\n",
      "Epoch 50/100\n",
      "24/24 [==============================] - 0s 434us/step - loss: 0.2175 - accuracy: 0.9933\n",
      "Epoch 51/100\n",
      "24/24 [==============================] - 0s 434us/step - loss: 0.2124 - accuracy: 0.9933\n",
      "Epoch 52/100\n",
      "24/24 [==============================] - 0s 390us/step - loss: 0.2075 - accuracy: 0.9947\n",
      "Epoch 53/100\n",
      "24/24 [==============================] - 0s 390us/step - loss: 0.2027 - accuracy: 0.9947\n",
      "Epoch 54/100\n",
      "24/24 [==============================] - 0s 390us/step - loss: 0.1981 - accuracy: 0.9947\n",
      "Epoch 55/100\n",
      "24/24 [==============================] - 0s 390us/step - loss: 0.1937 - accuracy: 0.9947\n",
      "Epoch 56/100\n",
      "24/24 [==============================] - 0s 434us/step - loss: 0.1893 - accuracy: 0.9947\n",
      "Epoch 57/100\n",
      "24/24 [==============================] - 0s 434us/step - loss: 0.1852 - accuracy: 0.9947\n",
      "Epoch 58/100\n",
      "24/24 [==============================] - 0s 477us/step - loss: 0.1811 - accuracy: 0.9947\n",
      "Epoch 59/100\n",
      "24/24 [==============================] - 0s 390us/step - loss: 0.1772 - accuracy: 0.9947\n",
      "Epoch 60/100\n",
      "24/24 [==============================] - 0s 390us/step - loss: 0.1733 - accuracy: 0.9960\n",
      "Epoch 61/100\n",
      "24/24 [==============================] - 0s 434us/step - loss: 0.1696 - accuracy: 0.9960\n",
      "Epoch 62/100\n",
      "24/24 [==============================] - 0s 390us/step - loss: 0.1660 - accuracy: 0.9960\n",
      "Epoch 63/100\n",
      "24/24 [==============================] - 0s 390us/step - loss: 0.1625 - accuracy: 0.9960\n",
      "Epoch 64/100\n",
      "24/24 [==============================] - 0s 390us/step - loss: 0.1592 - accuracy: 0.9960\n",
      "Epoch 65/100\n",
      "24/24 [==============================] - 0s 390us/step - loss: 0.1558 - accuracy: 0.9960\n",
      "Epoch 66/100\n",
      "24/24 [==============================] - 0s 390us/step - loss: 0.1526 - accuracy: 0.9960\n",
      "Epoch 67/100\n",
      "24/24 [==============================] - 0s 390us/step - loss: 0.1495 - accuracy: 0.9960\n",
      "Epoch 68/100\n",
      "24/24 [==============================] - 0s 390us/step - loss: 0.1465 - accuracy: 0.9960\n",
      "Epoch 69/100\n",
      "24/24 [==============================] - 0s 390us/step - loss: 0.1436 - accuracy: 0.9960\n",
      "Epoch 70/100\n",
      "24/24 [==============================] - 0s 434us/step - loss: 0.1407 - accuracy: 0.9960\n",
      "Epoch 71/100\n",
      "24/24 [==============================] - 0s 477us/step - loss: 0.1379 - accuracy: 0.9960\n",
      "Epoch 72/100\n",
      "24/24 [==============================] - 0s 434us/step - loss: 0.1352 - accuracy: 0.9960\n",
      "Epoch 73/100\n",
      "24/24 [==============================] - 0s 434us/step - loss: 0.1325 - accuracy: 0.9960\n",
      "Epoch 74/100\n",
      "24/24 [==============================] - 0s 477us/step - loss: 0.1300 - accuracy: 0.9960\n",
      "Epoch 75/100\n",
      "24/24 [==============================] - 0s 390us/step - loss: 0.1275 - accuracy: 0.9960\n",
      "Epoch 76/100\n",
      "24/24 [==============================] - 0s 434us/step - loss: 0.1251 - accuracy: 0.9960\n",
      "Epoch 77/100\n",
      "24/24 [==============================] - 0s 434us/step - loss: 0.1227 - accuracy: 0.9960\n",
      "Epoch 78/100\n",
      "24/24 [==============================] - 0s 390us/step - loss: 0.1204 - accuracy: 0.9973\n",
      "Epoch 79/100\n",
      "24/24 [==============================] - 0s 390us/step - loss: 0.1182 - accuracy: 0.9987\n",
      "Epoch 80/100\n",
      "24/24 [==============================] - 0s 390us/step - loss: 0.1160 - accuracy: 0.9987\n",
      "Epoch 81/100\n"
     ]
    },
    {
     "name": "stdout",
     "output_type": "stream",
     "text": [
      "24/24 [==============================] - 0s 390us/step - loss: 0.1139 - accuracy: 0.9987\n",
      "Epoch 82/100\n",
      "24/24 [==============================] - 0s 434us/step - loss: 0.1118 - accuracy: 1.0000\n",
      "Epoch 83/100\n",
      "24/24 [==============================] - 0s 390us/step - loss: 0.1098 - accuracy: 1.0000\n",
      "Epoch 84/100\n",
      "24/24 [==============================] - 0s 390us/step - loss: 0.1078 - accuracy: 1.0000\n",
      "Epoch 85/100\n",
      "24/24 [==============================] - 0s 434us/step - loss: 0.1059 - accuracy: 1.0000\n",
      "Epoch 86/100\n",
      "24/24 [==============================] - 0s 390us/step - loss: 0.1040 - accuracy: 1.0000\n",
      "Epoch 87/100\n",
      "24/24 [==============================] - 0s 390us/step - loss: 0.1022 - accuracy: 1.0000\n",
      "Epoch 88/100\n",
      "24/24 [==============================] - 0s 390us/step - loss: 0.1004 - accuracy: 1.0000\n",
      "Epoch 89/100\n",
      "24/24 [==============================] - 0s 434us/step - loss: 0.0986 - accuracy: 1.0000\n",
      "Epoch 90/100\n",
      "24/24 [==============================] - 0s 390us/step - loss: 0.0969 - accuracy: 1.0000\n",
      "Epoch 91/100\n",
      "24/24 [==============================] - 0s 390us/step - loss: 0.0953 - accuracy: 1.0000\n",
      "Epoch 92/100\n",
      "24/24 [==============================] - 0s 390us/step - loss: 0.0937 - accuracy: 1.0000\n",
      "Epoch 93/100\n",
      "24/24 [==============================] - 0s 390us/step - loss: 0.0921 - accuracy: 1.0000\n",
      "Epoch 94/100\n",
      "24/24 [==============================] - 0s 390us/step - loss: 0.0905 - accuracy: 1.0000\n",
      "Epoch 95/100\n",
      "24/24 [==============================] - 0s 390us/step - loss: 0.0890 - accuracy: 1.0000\n",
      "Epoch 96/100\n",
      "24/24 [==============================] - 0s 434us/step - loss: 0.0876 - accuracy: 1.0000\n",
      "Epoch 97/100\n",
      "24/24 [==============================] - 0s 434us/step - loss: 0.0861 - accuracy: 1.0000\n",
      "Epoch 98/100\n",
      "24/24 [==============================] - 0s 390us/step - loss: 0.0847 - accuracy: 1.0000\n",
      "Epoch 99/100\n",
      "24/24 [==============================] - 0s 434us/step - loss: 0.0834 - accuracy: 1.0000\n",
      "Epoch 100/100\n",
      "24/24 [==============================] - 0s 434us/step - loss: 0.0820 - accuracy: 1.0000\n"
     ]
    }
   ],
   "source": [
    "# Fit the model to the training data.\n",
    "fit_model = nn_model.fit(X_train_scaled, y_train, epochs=100)"
   ]
  },
  {
   "cell_type": "code",
   "execution_count": 11,
   "id": "24162f67",
   "metadata": {},
   "outputs": [
    {
     "data": {
      "text/plain": [
       "<AxesSubplot:>"
      ]
     },
     "execution_count": 11,
     "metadata": {},
     "output_type": "execute_result"
    },
    {
     "data": {
      "image/png": "[encoded data removed]",
      "text/plain": [
       "<Figure size 432x288 with 1 Axes>"
      ]
     },
     "metadata": {
      "needs_background": "light"
     },
     "output_type": "display_data"
    }
   ],
   "source": [
    "# Create a DataFrame to contain the training history.\n",
    "hist_df = pd.DataFrame(fit_model.history, index=range(1, len(fit_model.history[\"loss\"])+1))\n",
    "\n",
    "# Plot the loss.\n",
    "hist_df.plot(y='loss')"
   ]
  },
  {
   "cell_type": "code",
   "execution_count": 12,
   "id": "df37a020",
   "metadata": {},
   "outputs": [
    {
     "data": {
      "text/plain": [
       "<AxesSubplot:>"
      ]
     },
     "execution_count": 12,
     "metadata": {},
     "output_type": "execute_result"
    },
    {
     "data": {
      "image/png": "[encoded data removed]",
      "text/plain": [
       "<Figure size 432x288 with 1 Axes>"
      ]
     },
     "metadata": {
      "needs_background": "light"
     },
     "output_type": "display_data"
    }
   ],
   "source": [
    "# Plot the accuracy with the same DF.\n",
    "hist_df.plot(y='accuracy')"
   ]
  },
  {
   "cell_type": "code",
   "execution_count": 13,
   "id": "bc97d879",
   "metadata": {},
   "outputs": [
    {
     "name": "stdout",
     "output_type": "stream",
     "text": [
      "8/8 - 0s - loss: 0.0828 - accuracy: 1.0000\n",
      "Loss: 0.08280831575393677, Accuracy: 1.0\n"
     ]
    }
   ],
   "source": [
    "# Evaluate the model using the test data.\n",
    "model_loss, model_accuracy = nn_model.evaluate(X_test_scaled, y_test, verbose=2)\n",
    "print(f\"Loss: {model_loss}, Accuracy: {model_accuracy}\")"
   ]
  },
  {
   "cell_type": "code",
   "execution_count": 14,
   "id": "a4e39ca4",
   "metadata": {},
   "outputs": [
    {
     "data": {
      "text/plain": [
       "array([[0],\n",
       "       [1],\n",
       "       [0],\n",
       "       [1],\n",
       "       [0],\n",
       "       [0],\n",
       "       [1],\n",
       "       [1],\n",
       "       [1],\n",
       "       [0]])"
      ]
     },
     "execution_count": 14,
     "metadata": {},
     "output_type": "execute_result"
    }
   ],
   "source": [
    "# Predict the classification of a new set of blob data.\n",
    "new_X, new_y = make_blobs(n_samples=10, centers=2, n_features=2, random_state=78)\n",
    "# Use same trained scaling method.\n",
    "new_X_scaled = X_scaler.transform(new_X)\n",
    "# Predict the classification, using 50% cut-off.\n",
    "(nn_model.predict(new_X_scaled) > 0.5).astype('int32')"
   ]
  },
  {
   "cell_type": "code",
   "execution_count": 15,
   "id": "29eee72f",
   "metadata": {},
   "outputs": [
    {
     "name": "stdout",
     "output_type": "stream",
     "text": [
      "1/1 - 0s - loss: 0.0781 - accuracy: 1.0000\n",
      "Loss: 0.0780855268239975, Accuracy: 1.0\n"
     ]
    }
   ],
   "source": [
    "# Compare to new_y.\n",
    "model_loss, model_accuracy = nn_model.evaluate(new_X_scaled, new_y, verbose=2)\n",
    "print(f\"Loss: {model_loss}, Accuracy: {model_accuracy}\")"
   ]
  }
 ],
 "metadata": {
  "kernelspec": {
   "display_name": "mlenv",
   "language": "python",
   "name": "mlenv"
  },
  "language_info": {
   "codemirror_mode": {
    "name": "ipython",
    "version": 3
   },
   "file_extension": ".py",
   "mimetype": "text/x-python",
   "name": "python",
   "nbconvert_exporter": "python",
   "pygments_lexer": "ipython3",
   "version": "3.7.10"
  }
 },
 "nbformat": 4,
 "nbformat_minor": 5
}
