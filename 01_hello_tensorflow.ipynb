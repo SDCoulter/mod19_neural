{
 "cells": [
  {
   "cell_type": "code",
   "execution_count": 1,
   "id": "2628f1e6",
   "metadata": {},
   "outputs": [],
   "source": [
    "# Dependencies.\n",
    "import pandas as pd\n",
    "import matplotlib as plt\n",
    "from sklearn.datasets import make_blobs\n",
    "import sklearn as skl\n",
    "import tensorflow as tf"
   ]
  },
  {
   "cell_type": "code",
   "execution_count": 2,
   "id": "b82fdc62",
   "metadata": {},
   "outputs": [
    {
     "data": {
      "text/plain": [
       "<AxesSubplot:xlabel='Feature 1', ylabel='Feature 2'>"
      ]
     },
     "execution_count": 2,
     "metadata": {},
     "output_type": "execute_result"
    },
    {
     "data": {
      "image/png": "[encoded data removed]",
      "text/plain": [
       "<Figure size 432x288 with 2 Axes>"
      ]
     },
     "metadata": {
      "needs_background": "light"
     },
     "output_type": "display_data"
    }
   ],
   "source": [
    "# Generate the dummy dataset.\n",
    "X, y = make_blobs(n_samples=1000, centers=2, n_features=2, random_state=78)\n",
    "\n",
    "# Create a DataFrame from the dummy data.\n",
    "df = pd.DataFrame(X, columns=['Feature 1', 'Feature 2'])\n",
    "# Add the target variable column.\n",
    "df['Target'] = y\n",
    "\n",
    "# Plot data.\n",
    "df.plot.scatter(x='Feature 1', y='Feature 2', c='Target', colormap='winter')"
   ]
  },
  {
   "cell_type": "code",
   "execution_count": 3,
   "id": "a6210868",
   "metadata": {},
   "outputs": [],
   "source": [
    "# Split data into training and testing sets.\n",
    "from sklearn.model_selection import train_test_split\n",
    "X_train, X_test, y_train, y_test = train_test_split(X, y, random_state=78)"
   ]
  },
  {
   "cell_type": "code",
   "execution_count": 4,
   "id": "d2bd5fc3",
   "metadata": {},
   "outputs": [],
   "source": [
    "# Scale the data, start with instance creation.\n",
    "X_scaler = skl.preprocessing.StandardScaler()\n",
    "\n",
    "# Fit scaler.\n",
    "X_scaler.fit(X_train)\n",
    "\n",
    "# Scale the data.\n",
    "X_train_scaled = X_scaler.transform(X_train)\n",
    "X_test_scaled = X_scaler.transform(X_test)"
   ]
  },
  {
   "cell_type": "code",
   "execution_count": 5,
   "id": "69cf9556",
   "metadata": {},
   "outputs": [],
   "source": [
    "# Create Keras Sequential model.\n",
    "nn_model = tf.keras.models.Sequential()"
   ]
  },
  {
   "cell_type": "code",
   "execution_count": 6,
   "id": "90d89720",
   "metadata": {},
   "outputs": [],
   "source": [
    "# Add our first Dense layer, including the input layer.\n",
    "nn_model.add(tf.keras.layers.Dense(units=1, activation='relu', input_dim=2))"
   ]
  },
  {
   "cell_type": "code",
   "execution_count": 7,
   "id": "efd20fd1",
   "metadata": {},
   "outputs": [],
   "source": [
    "# Create the Dense output layer, with probability activation function.\n",
    "nn_model.add(tf.keras.layers.Dense(units=1, activation='sigmoid'))"
   ]
  },
  {
   "cell_type": "code",
   "execution_count": 8,
   "id": "da4caa17",
   "metadata": {},
   "outputs": [
    {
     "name": "stdout",
     "output_type": "stream",
     "text": [
      "Model: \"sequential\"\n",
      "_________________________________________________________________\n",
      "Layer (type)                 Output Shape              Param #   \n",
      "=================================================================\n",
      "dense (Dense)                (None, 1)                 3         \n",
      "_________________________________________________________________\n",
      "dense_1 (Dense)              (None, 1)                 2         \n",
      "=================================================================\n",
      "Total params: 5\n",
      "Trainable params: 5\n",
      "Non-trainable params: 0\n",
      "_________________________________________________________________\n"
     ]
    }
   ],
   "source": [
    "# Check the structure of the Sequential model.\n",
    "nn_model.summary()"
   ]
  },
  {
   "cell_type": "code",
   "execution_count": 9,
   "id": "16322e09",
   "metadata": {},
   "outputs": [],
   "source": [
    "# Compile the Sequential model together and customize metrics.\n",
    "nn_model.compile(loss='binary_crossentropy', optimizer='adam', metrics=['accuracy'])"
   ]
  },
  {
   "cell_type": "code",
   "execution_count": 10,
   "id": "fdd5acff",
   "metadata": {},
   "outputs": [
    {
     "name": "stdout",
     "output_type": "stream",
     "text": [
      "Epoch 1/100\n",
      "24/24 [==============================] - 0s 477us/step - loss: 1.3119 - accuracy: 0.0227\n",
      "Epoch 2/100\n",
      "24/24 [==============================] - 0s 434us/step - loss: 1.2618 - accuracy: 0.0000e+00\n",
      "Epoch 3/100\n",
      "24/24 [==============================] - 0s 434us/step - loss: 1.2153 - accuracy: 0.0000e+00\n",
      "Epoch 4/100\n",
      "24/24 [==============================] - 0s 390us/step - loss: 1.1713 - accuracy: 0.0000e+00\n",
      "Epoch 5/100\n",
      "24/24 [==============================] - 0s 434us/step - loss: 1.1314 - accuracy: 0.0000e+00\n",
      "Epoch 6/100\n",
      "24/24 [==============================] - 0s 434us/step - loss: 1.0939 - accuracy: 0.0000e+00\n",
      "Epoch 7/100\n",
      "24/24 [==============================] - 0s 390us/step - loss: 1.0595 - accuracy: 0.0000e+00\n",
      "Epoch 8/100\n",
      "24/24 [==============================] - 0s 390us/step - loss: 1.0280 - accuracy: 0.0000e+00\n",
      "Epoch 9/100\n",
      "24/24 [==============================] - 0s 434us/step - loss: 0.9994 - accuracy: 0.0000e+00\n",
      "Epoch 10/100\n",
      "24/24 [==============================] - 0s 434us/step - loss: 0.9726 - accuracy: 0.0000e+00\n",
      "Epoch 11/100\n",
      "24/24 [==============================] - 0s 434us/step - loss: 0.9478 - accuracy: 0.0000e+00\n",
      "Epoch 12/100\n",
      "24/24 [==============================] - 0s 390us/step - loss: 0.9253 - accuracy: 0.0000e+00\n",
      "Epoch 13/100\n",
      "24/24 [==============================] - 0s 390us/step - loss: 0.9041 - accuracy: 0.0000e+00\n",
      "Epoch 14/100\n",
      "24/24 [==============================] - 0s 434us/step - loss: 0.8849 - accuracy: 0.0000e+00\n",
      "Epoch 15/100\n",
      "24/24 [==============================] - 0s 434us/step - loss: 0.8669 - accuracy: 0.0000e+00\n",
      "Epoch 16/100\n",
      "24/24 [==============================] - 0s 434us/step - loss: 0.8502 - accuracy: 0.0000e+00\n",
      "Epoch 17/100\n",
      "24/24 [==============================] - 0s 390us/step - loss: 0.8344 - accuracy: 0.0027\n",
      "Epoch 18/100\n",
      "24/24 [==============================] - 0s 434us/step - loss: 0.8199 - accuracy: 0.0107\n",
      "Epoch 19/100\n",
      "24/24 [==============================] - 0s 434us/step - loss: 0.8063 - accuracy: 0.0227\n",
      "Epoch 20/100\n",
      "24/24 [==============================] - 0s 390us/step - loss: 0.7935 - accuracy: 0.0507\n",
      "Epoch 21/100\n",
      "24/24 [==============================] - 0s 434us/step - loss: 0.7817 - accuracy: 0.0987\n",
      "Epoch 22/100\n",
      "24/24 [==============================] - 0s 434us/step - loss: 0.7705 - accuracy: 0.1280\n",
      "Epoch 23/100\n",
      "24/24 [==============================] - 0s 434us/step - loss: 0.7603 - accuracy: 0.1720\n",
      "Epoch 24/100\n",
      "24/24 [==============================] - 0s 439us/step - loss: 0.7511 - accuracy: 0.2133\n",
      "Epoch 25/100\n",
      "24/24 [==============================] - 0s 434us/step - loss: 0.7433 - accuracy: 0.2587\n",
      "Epoch 26/100\n",
      "24/24 [==============================] - 0s 434us/step - loss: 0.7366 - accuracy: 0.2840\n",
      "Epoch 27/100\n",
      "24/24 [==============================] - 0s 434us/step - loss: 0.7310 - accuracy: 0.3107\n",
      "Epoch 28/100\n",
      "24/24 [==============================] - 0s 390us/step - loss: 0.7261 - accuracy: 0.3253\n",
      "Epoch 29/100\n",
      "24/24 [==============================] - 0s 434us/step - loss: 0.7220 - accuracy: 0.3480\n",
      "Epoch 30/100\n",
      "24/24 [==============================] - 0s 477us/step - loss: 0.7185 - accuracy: 0.3627\n",
      "Epoch 31/100\n",
      "24/24 [==============================] - 0s 390us/step - loss: 0.7156 - accuracy: 0.3800\n",
      "Epoch 32/100\n",
      "24/24 [==============================] - 0s 390us/step - loss: 0.7130 - accuracy: 0.3907\n",
      "Epoch 33/100\n",
      "24/24 [==============================] - 0s 390us/step - loss: 0.7108 - accuracy: 0.4000\n",
      "Epoch 34/100\n",
      "24/24 [==============================] - 0s 434us/step - loss: 0.7089 - accuracy: 0.4053\n",
      "Epoch 35/100\n",
      "24/24 [==============================] - 0s 390us/step - loss: 0.7073 - accuracy: 0.4093\n",
      "Epoch 36/100\n",
      "24/24 [==============================] - 0s 434us/step - loss: 0.7059 - accuracy: 0.4200\n",
      "Epoch 37/100\n",
      "24/24 [==============================] - 0s 477us/step - loss: 0.7046 - accuracy: 0.4213\n",
      "Epoch 38/100\n",
      "24/24 [==============================] - 0s 434us/step - loss: 0.7034 - accuracy: 0.4227\n",
      "Epoch 39/100\n",
      "24/24 [==============================] - 0s 434us/step - loss: 0.7025 - accuracy: 0.4253\n",
      "Epoch 40/100\n",
      "24/24 [==============================] - 0s 434us/step - loss: 0.7016 - accuracy: 0.4360\n",
      "Epoch 41/100\n",
      "24/24 [==============================] - 0s 424us/step - loss: 0.7009 - accuracy: 0.4387\n",
      "Epoch 42/100\n",
      "24/24 [==============================] - 0s 434us/step - loss: 0.7002 - accuracy: 0.4400\n",
      "Epoch 43/100\n",
      "24/24 [==============================] - 0s 434us/step - loss: 0.6996 - accuracy: 0.4427\n",
      "Epoch 44/100\n",
      "24/24 [==============================] - 0s 390us/step - loss: 0.6990 - accuracy: 0.4427\n",
      "Epoch 45/100\n",
      "24/24 [==============================] - 0s 434us/step - loss: 0.6985 - accuracy: 0.4427\n",
      "Epoch 46/100\n",
      "24/24 [==============================] - 0s 434us/step - loss: 0.6980 - accuracy: 0.4467\n",
      "Epoch 47/100\n",
      "24/24 [==============================] - 0s 390us/step - loss: 0.6976 - accuracy: 0.4507\n",
      "Epoch 48/100\n",
      "24/24 [==============================] - 0s 434us/step - loss: 0.6973 - accuracy: 0.4507\n",
      "Epoch 49/100\n",
      "24/24 [==============================] - 0s 434us/step - loss: 0.6969 - accuracy: 0.4533\n",
      "Epoch 50/100\n",
      "24/24 [==============================] - 0s 434us/step - loss: 0.6966 - accuracy: 0.4533\n",
      "Epoch 51/100\n",
      "24/24 [==============================] - 0s 434us/step - loss: 0.6964 - accuracy: 0.4547\n",
      "Epoch 52/100\n",
      "24/24 [==============================] - 0s 434us/step - loss: 0.6962 - accuracy: 0.4547\n",
      "Epoch 53/100\n",
      "24/24 [==============================] - 0s 434us/step - loss: 0.6960 - accuracy: 0.4547\n",
      "Epoch 54/100\n",
      "24/24 [==============================] - 0s 477us/step - loss: 0.6958 - accuracy: 0.4547\n",
      "Epoch 55/100\n",
      "24/24 [==============================] - 0s 434us/step - loss: 0.6955 - accuracy: 0.4573\n",
      "Epoch 56/100\n",
      "24/24 [==============================] - 0s 477us/step - loss: 0.6954 - accuracy: 0.4573\n",
      "Epoch 57/100\n",
      "24/24 [==============================] - 0s 434us/step - loss: 0.6953 - accuracy: 0.4573\n",
      "Epoch 58/100\n",
      "24/24 [==============================] - 0s 464us/step - loss: 0.6951 - accuracy: 0.4587\n",
      "Epoch 59/100\n",
      "24/24 [==============================] - 0s 434us/step - loss: 0.6950 - accuracy: 0.4587\n",
      "Epoch 60/100\n",
      "24/24 [==============================] - 0s 434us/step - loss: 0.6949 - accuracy: 0.4587\n",
      "Epoch 61/100\n",
      "24/24 [==============================] - 0s 650us/step - loss: 0.6948 - accuracy: 0.4587\n",
      "Epoch 62/100\n",
      "24/24 [==============================] - 0s 434us/step - loss: 0.6947 - accuracy: 0.4587\n",
      "Epoch 63/100\n",
      "24/24 [==============================] - 0s 434us/step - loss: 0.6946 - accuracy: 0.4587\n",
      "Epoch 64/100\n",
      "24/24 [==============================] - 0s 434us/step - loss: 0.6945 - accuracy: 0.4613\n",
      "Epoch 65/100\n",
      "24/24 [==============================] - 0s 390us/step - loss: 0.6944 - accuracy: 0.4653\n",
      "Epoch 66/100\n",
      "24/24 [==============================] - 0s 416us/step - loss: 0.6943 - accuracy: 0.4653\n",
      "Epoch 67/100\n",
      "24/24 [==============================] - 0s 434us/step - loss: 0.6942 - accuracy: 0.4280\n",
      "Epoch 68/100\n",
      "24/24 [==============================] - 0s 390us/step - loss: 0.6942 - accuracy: 0.4613\n",
      "Epoch 69/100\n",
      "24/24 [==============================] - 0s 390us/step - loss: 0.6941 - accuracy: 0.5067\n",
      "Epoch 70/100\n",
      "24/24 [==============================] - 0s 390us/step - loss: 0.6940 - accuracy: 0.5067\n",
      "Epoch 71/100\n",
      "24/24 [==============================] - 0s 390us/step - loss: 0.6940 - accuracy: 0.5067\n",
      "Epoch 72/100\n",
      "24/24 [==============================] - 0s 434us/step - loss: 0.6940 - accuracy: 0.5067\n",
      "Epoch 73/100\n",
      "24/24 [==============================] - 0s 434us/step - loss: 0.6939 - accuracy: 0.5067\n",
      "Epoch 74/100\n",
      "24/24 [==============================] - 0s 390us/step - loss: 0.6938 - accuracy: 0.5067\n",
      "Epoch 75/100\n",
      "24/24 [==============================] - 0s 414us/step - loss: 0.6937 - accuracy: 0.5067\n",
      "Epoch 76/100\n",
      "24/24 [==============================] - 0s 390us/step - loss: 0.6937 - accuracy: 0.5067\n",
      "Epoch 77/100\n",
      "24/24 [==============================] - 0s 390us/step - loss: 0.6936 - accuracy: 0.5067\n",
      "Epoch 78/100\n",
      "24/24 [==============================] - 0s 390us/step - loss: 0.6936 - accuracy: 0.5067\n",
      "Epoch 79/100\n",
      "24/24 [==============================] - 0s 477us/step - loss: 0.6935 - accuracy: 0.5067\n",
      "Epoch 80/100\n"
     ]
    },
    {
     "name": "stdout",
     "output_type": "stream",
     "text": [
      "24/24 [==============================] - 0s 564us/step - loss: 0.6935 - accuracy: 0.5067\n",
      "Epoch 81/100\n",
      "24/24 [==============================] - 0s 477us/step - loss: 0.6935 - accuracy: 0.5067\n",
      "Epoch 82/100\n",
      "24/24 [==============================] - 0s 390us/step - loss: 0.6935 - accuracy: 0.5067\n",
      "Epoch 83/100\n",
      "24/24 [==============================] - 0s 427us/step - loss: 0.6935 - accuracy: 0.5067\n",
      "Epoch 84/100\n",
      "24/24 [==============================] - 0s 434us/step - loss: 0.6934 - accuracy: 0.5067\n",
      "Epoch 85/100\n",
      "24/24 [==============================] - 0s 434us/step - loss: 0.6934 - accuracy: 0.5067\n",
      "Epoch 86/100\n",
      "24/24 [==============================] - 0s 434us/step - loss: 0.6934 - accuracy: 0.5067\n",
      "Epoch 87/100\n",
      "24/24 [==============================] - 0s 434us/step - loss: 0.6933 - accuracy: 0.5067\n",
      "Epoch 88/100\n",
      "24/24 [==============================] - 0s 434us/step - loss: 0.6933 - accuracy: 0.5067\n",
      "Epoch 89/100\n",
      "24/24 [==============================] - 0s 434us/step - loss: 0.6933 - accuracy: 0.5067\n",
      "Epoch 90/100\n",
      "24/24 [==============================] - 0s 434us/step - loss: 0.6933 - accuracy: 0.5067\n",
      "Epoch 91/100\n",
      "24/24 [==============================] - 0s 477us/step - loss: 0.6933 - accuracy: 0.5067\n",
      "Epoch 92/100\n",
      "24/24 [==============================] - 0s 434us/step - loss: 0.6933 - accuracy: 0.5067\n",
      "Epoch 93/100\n",
      "24/24 [==============================] - 0s 434us/step - loss: 0.6933 - accuracy: 0.5067\n",
      "Epoch 94/100\n",
      "24/24 [==============================] - 0s 477us/step - loss: 0.6933 - accuracy: 0.5067\n",
      "Epoch 95/100\n",
      "24/24 [==============================] - 0s 434us/step - loss: 0.6932 - accuracy: 0.5067\n",
      "Epoch 96/100\n",
      "24/24 [==============================] - 0s 520us/step - loss: 0.6933 - accuracy: 0.5067\n",
      "Epoch 97/100\n",
      "24/24 [==============================] - 0s 477us/step - loss: 0.6933 - accuracy: 0.5067\n",
      "Epoch 98/100\n",
      "24/24 [==============================] - 0s 434us/step - loss: 0.6932 - accuracy: 0.5067\n",
      "Epoch 99/100\n",
      "24/24 [==============================] - 0s 477us/step - loss: 0.6932 - accuracy: 0.5067\n",
      "Epoch 100/100\n",
      "24/24 [==============================] - 0s 564us/step - loss: 0.6933 - accuracy: 0.5067\n"
     ]
    }
   ],
   "source": [
    "# Fit the model to the training data.\n",
    "fit_model = nn_model.fit(X_train_scaled, y_train, epochs=100)"
   ]
  },
  {
   "cell_type": "code",
   "execution_count": 11,
   "id": "5bb1c70c",
   "metadata": {},
   "outputs": [
    {
     "data": {
      "text/plain": [
       "<AxesSubplot:>"
      ]
     },
     "execution_count": 11,
     "metadata": {},
     "output_type": "execute_result"
    },
    {
     "data": {
      "image/png": "[encoded data removed]",
      "text/plain": [
       "<Figure size 432x288 with 1 Axes>"
      ]
     },
     "metadata": {
      "needs_background": "light"
     },
     "output_type": "display_data"
    }
   ],
   "source": [
    "# Create a DataFrame to contain the training history.\n",
    "hist_df = pd.DataFrame(fit_model.history, index=range(1, len(fit_model.history[\"loss\"])+1))\n",
    "\n",
    "# Plot the loss.\n",
    "hist_df.plot(y='loss')"
   ]
  },
  {
   "cell_type": "code",
   "execution_count": 12,
   "id": "341edb77",
   "metadata": {},
   "outputs": [
    {
     "data": {
      "text/plain": [
       "<AxesSubplot:>"
      ]
     },
     "execution_count": 12,
     "metadata": {},
     "output_type": "execute_result"
    },
    {
     "data": {
      "image/png": "[encoded data removed]",
      "text/plain": [
       "<Figure size 432x288 with 1 Axes>"
      ]
     },
     "metadata": {
      "needs_background": "light"
     },
     "output_type": "display_data"
    }
   ],
   "source": [
    "# Plot the accuracy with the same DF.\n",
    "hist_df.plot(y='accuracy')"
   ]
  },
  {
   "cell_type": "code",
   "execution_count": 13,
   "id": "32801273",
   "metadata": {},
   "outputs": [
    {
     "name": "stdout",
     "output_type": "stream",
     "text": [
      "8/8 - 0s - loss: 0.6938 - accuracy: 0.4800\n",
      "Loss: 0.693780779838562, Accuracy: 0.47999998927116394\n"
     ]
    }
   ],
   "source": [
    "# Evaluate the model using the test data.\n",
    "model_loss, model_accuracy = nn_model.evaluate(X_test_scaled, y_test, verbose=2)\n",
    "print(f\"Loss: {model_loss}, Accuracy: {model_accuracy}\")"
   ]
  },
  {
   "cell_type": "code",
   "execution_count": 14,
   "id": "bbd62879",
   "metadata": {},
   "outputs": [
    {
     "data": {
      "text/plain": [
       "array([[0],\n",
       "       [0],\n",
       "       [0],\n",
       "       [0],\n",
       "       [0],\n",
       "       [0],\n",
       "       [0],\n",
       "       [0],\n",
       "       [0],\n",
       "       [0]])"
      ]
     },
     "execution_count": 14,
     "metadata": {},
     "output_type": "execute_result"
    }
   ],
   "source": [
    "# Predict the classification of a new set of blob data.\n",
    "new_X, new_y = make_blobs(n_samples=10, centers=2, n_features=2, random_state=78)\n",
    "# Use same trained scaling method.\n",
    "new_X_scaled = X_scaler.transform(new_X)\n",
    "# Predict the classification, using 50% cut-off.\n",
    "(nn_model.predict(new_X_scaled) > 0.5).astype('int32')"
   ]
  },
  {
   "cell_type": "code",
   "execution_count": 15,
   "id": "e3c6e279",
   "metadata": {},
   "outputs": [
    {
     "name": "stdout",
     "output_type": "stream",
     "text": [
      "1/1 - 0s - loss: 0.6932 - accuracy: 0.5000\n",
      "Loss: 0.6932203769683838, Accuracy: 0.5\n"
     ]
    }
   ],
   "source": [
    "# Compare to new_y.\n",
    "model_loss, model_accuracy = nn_model.evaluate(new_X_scaled, new_y, verbose=2)\n",
    "print(f\"Loss: {model_loss}, Accuracy: {model_accuracy}\")"
   ]
  }
 ],
 "metadata": {
  "kernelspec": {
   "display_name": "mlenv",
   "language": "python",
   "name": "mlenv"
  },
  "language_info": {
   "codemirror_mode": {
    "name": "ipython",
    "version": 3
   },
   "file_extension": ".py",
   "mimetype": "text/x-python",
   "name": "python",
   "nbconvert_exporter": "python",
   "pygments_lexer": "ipython3",
   "version": "3.7.10"
  }
 },
 "nbformat": 4,
 "nbformat_minor": 5
}
