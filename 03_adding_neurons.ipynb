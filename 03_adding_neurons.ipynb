{
 "cells": [
  {
   "cell_type": "code",
   "execution_count": 1,
   "id": "8919b0d5",
   "metadata": {},
   "outputs": [],
   "source": [
    "# Dependencies.\n",
    "import pandas as pd\n",
    "import matplotlib as plt\n",
    "from sklearn.datasets import make_blobs\n",
    "import sklearn as skl\n",
    "import tensorflow as tf"
   ]
  },
  {
   "cell_type": "code",
   "execution_count": 2,
   "id": "1432c7e4",
   "metadata": {},
   "outputs": [
    {
     "data": {
      "text/plain": [
       "<AxesSubplot:xlabel='Feature 1', ylabel='Feature 2'>"
      ]
     },
     "execution_count": 2,
     "metadata": {},
     "output_type": "execute_result"
    },
    {
     "data": {
      "image/png": "[encoded data removed]",
      "text/plain": [
       "<Figure size 432x288 with 2 Axes>"
      ]
     },
     "metadata": {
      "needs_background": "light"
     },
     "output_type": "display_data"
    }
   ],
   "source": [
    "# Generate the dummy dataset.\n",
    "X, y = make_blobs(n_samples=1000, centers=2, n_features=2, random_state=78)\n",
    "\n",
    "# Create a DataFrame from the dummy data.\n",
    "df = pd.DataFrame(X, columns=['Feature 1', 'Feature 2'])\n",
    "# Add the target variable column.\n",
    "df['Target'] = y\n",
    "\n",
    "# Plot data.\n",
    "df.plot.scatter(x='Feature 1', y='Feature 2', c='Target', colormap='winter')"
   ]
  },
  {
   "cell_type": "code",
   "execution_count": 3,
   "id": "34617d03",
   "metadata": {},
   "outputs": [],
   "source": [
    "# Split data into training and testing sets.\n",
    "from sklearn.model_selection import train_test_split\n",
    "X_train, X_test, y_train, y_test = train_test_split(X, y, random_state=78)"
   ]
  },
  {
   "cell_type": "code",
   "execution_count": 4,
   "id": "d5b8ece5",
   "metadata": {},
   "outputs": [],
   "source": [
    "# Scale the data, start with instance creation.\n",
    "X_scaler = skl.preprocessing.StandardScaler()\n",
    "\n",
    "# Fit scaler.\n",
    "X_scaler.fit(X_train)\n",
    "\n",
    "# Scale the data.\n",
    "X_train_scaled = X_scaler.transform(X_train)\n",
    "X_test_scaled = X_scaler.transform(X_test)"
   ]
  },
  {
   "cell_type": "code",
   "execution_count": 5,
   "id": "e980c823",
   "metadata": {},
   "outputs": [],
   "source": [
    "# Create Keras Sequential model.\n",
    "nn_model = tf.keras.models.Sequential()"
   ]
  },
  {
   "cell_type": "code",
   "execution_count": 6,
   "id": "583aa152",
   "metadata": {},
   "outputs": [],
   "source": [
    "# Add our first Dense layer, including the input layer.\n",
    "nn_model.add(tf.keras.layers.Dense(units=1, activation='relu', input_dim=2))"
   ]
  },
  {
   "cell_type": "code",
   "execution_count": 7,
   "id": "544f5b4b",
   "metadata": {},
   "outputs": [],
   "source": [
    "# Create the Dense output layer, with probability activation function.\n",
    "nn_model.add(tf.keras.layers.Dense(units=1, activation='sigmoid'))"
   ]
  },
  {
   "cell_type": "code",
   "execution_count": 8,
   "id": "d8ee1c35",
   "metadata": {},
   "outputs": [
    {
     "name": "stdout",
     "output_type": "stream",
     "text": [
      "Model: \"sequential\"\n",
      "_________________________________________________________________\n",
      "Layer (type)                 Output Shape              Param #   \n",
      "=================================================================\n",
      "dense (Dense)                (None, 1)                 3         \n",
      "_________________________________________________________________\n",
      "dense_1 (Dense)              (None, 1)                 2         \n",
      "=================================================================\n",
      "Total params: 5\n",
      "Trainable params: 5\n",
      "Non-trainable params: 0\n",
      "_________________________________________________________________\n"
     ]
    }
   ],
   "source": [
    "# Check the structure of the Sequential model.\n",
    "nn_model.summary()"
   ]
  },
  {
   "cell_type": "code",
   "execution_count": 9,
   "id": "15961da2",
   "metadata": {},
   "outputs": [],
   "source": [
    "# Compile the Sequential model together and customize metrics.\n",
    "nn_model.compile(loss='binary_crossentropy', optimizer='adam', metrics=['accuracy'])"
   ]
  },
  {
   "cell_type": "code",
   "execution_count": 10,
   "id": "3e90d939",
   "metadata": {},
   "outputs": [
    {
     "name": "stdout",
     "output_type": "stream",
     "text": [
      "Epoch 1/100\n",
      "24/24 [==============================] - 0s 434us/step - loss: 0.9384 - accuracy: 0.0000e+00\n",
      "Epoch 2/100\n",
      "24/24 [==============================] - 0s 434us/step - loss: 0.9103 - accuracy: 0.0000e+00\n",
      "Epoch 3/100\n",
      "24/24 [==============================] - 0s 390us/step - loss: 0.8852 - accuracy: 0.0000e+00\n",
      "Epoch 4/100\n",
      "24/24 [==============================] - 0s 564us/step - loss: 0.8623 - accuracy: 0.0000e+00\n",
      "Epoch 5/100\n",
      "24/24 [==============================] - 0s 564us/step - loss: 0.8417 - accuracy: 0.0000e+00\n",
      "Epoch 6/100\n",
      "24/24 [==============================] - 0s 434us/step - loss: 0.8236 - accuracy: 0.0000e+00\n",
      "Epoch 7/100\n",
      "24/24 [==============================] - 0s 477us/step - loss: 0.8066 - accuracy: 0.0000e+00\n",
      "Epoch 8/100\n",
      "24/24 [==============================] - 0s 520us/step - loss: 0.7916 - accuracy: 0.0000e+00\n",
      "Epoch 9/100\n",
      "24/24 [==============================] - 0s 434us/step - loss: 0.7780 - accuracy: 0.0000e+00\n",
      "Epoch 10/100\n",
      "24/24 [==============================] - 0s 434us/step - loss: 0.7654 - accuracy: 0.0053\n",
      "Epoch 11/100\n",
      "24/24 [==============================] - 0s 390us/step - loss: 0.7539 - accuracy: 0.0240\n",
      "Epoch 12/100\n",
      "24/24 [==============================] - 0s 434us/step - loss: 0.7433 - accuracy: 0.0640\n",
      "Epoch 13/100\n",
      "24/24 [==============================] - 0s 390us/step - loss: 0.7334 - accuracy: 0.1400\n",
      "Epoch 14/100\n",
      "24/24 [==============================] - 0s 390us/step - loss: 0.7250 - accuracy: 0.2133\n",
      "Epoch 15/100\n",
      "24/24 [==============================] - 0s 477us/step - loss: 0.7179 - accuracy: 0.2853\n",
      "Epoch 16/100\n",
      "24/24 [==============================] - 0s 434us/step - loss: 0.7122 - accuracy: 0.3427\n",
      "Epoch 17/100\n",
      "24/24 [==============================] - 0s 434us/step - loss: 0.7081 - accuracy: 0.3840\n",
      "Epoch 18/100\n",
      "24/24 [==============================] - 0s 434us/step - loss: 0.7051 - accuracy: 0.4173\n",
      "Epoch 19/100\n",
      "24/24 [==============================] - 0s 434us/step - loss: 0.7028 - accuracy: 0.4373\n",
      "Epoch 20/100\n",
      "24/24 [==============================] - 0s 390us/step - loss: 0.7010 - accuracy: 0.4547\n",
      "Epoch 21/100\n",
      "24/24 [==============================] - 0s 477us/step - loss: 0.6997 - accuracy: 0.4587\n",
      "Epoch 22/100\n",
      "24/24 [==============================] - 0s 434us/step - loss: 0.6986 - accuracy: 0.4613\n",
      "Epoch 23/100\n",
      "24/24 [==============================] - 0s 434us/step - loss: 0.6978 - accuracy: 0.4680\n",
      "Epoch 24/100\n",
      "24/24 [==============================] - 0s 390us/step - loss: 0.6971 - accuracy: 0.4720\n",
      "Epoch 25/100\n",
      "24/24 [==============================] - 0s 390us/step - loss: 0.6965 - accuracy: 0.4747\n",
      "Epoch 26/100\n",
      "24/24 [==============================] - 0s 390us/step - loss: 0.6960 - accuracy: 0.4760\n",
      "Epoch 27/100\n",
      "24/24 [==============================] - 0s 390us/step - loss: 0.6957 - accuracy: 0.4827\n",
      "Epoch 28/100\n",
      "24/24 [==============================] - 0s 434us/step - loss: 0.6954 - accuracy: 0.4867\n",
      "Epoch 29/100\n",
      "24/24 [==============================] - 0s 434us/step - loss: 0.6952 - accuracy: 0.4867\n",
      "Epoch 30/100\n",
      "24/24 [==============================] - 0s 390us/step - loss: 0.6949 - accuracy: 0.4880\n",
      "Epoch 31/100\n",
      "24/24 [==============================] - 0s 434us/step - loss: 0.6948 - accuracy: 0.4880\n",
      "Epoch 32/100\n",
      "24/24 [==============================] - 0s 434us/step - loss: 0.6945 - accuracy: 0.4880\n",
      "Epoch 33/100\n",
      "24/24 [==============================] - 0s 434us/step - loss: 0.6945 - accuracy: 0.4880\n",
      "Epoch 34/100\n",
      "24/24 [==============================] - 0s 390us/step - loss: 0.6943 - accuracy: 0.4880\n",
      "Epoch 35/100\n",
      "24/24 [==============================] - 0s 434us/step - loss: 0.6942 - accuracy: 0.4907\n",
      "Epoch 36/100\n",
      "24/24 [==============================] - 0s 434us/step - loss: 0.6941 - accuracy: 0.4907\n",
      "Epoch 37/100\n",
      "24/24 [==============================] - 0s 390us/step - loss: 0.6940 - accuracy: 0.4933\n",
      "Epoch 38/100\n",
      "24/24 [==============================] - 0s 390us/step - loss: 0.6939 - accuracy: 0.4933\n",
      "Epoch 39/100\n",
      "24/24 [==============================] - 0s 390us/step - loss: 0.6939 - accuracy: 0.4947\n",
      "Epoch 40/100\n",
      "24/24 [==============================] - 0s 434us/step - loss: 0.6938 - accuracy: 0.4947\n",
      "Epoch 41/100\n",
      "24/24 [==============================] - 0s 434us/step - loss: 0.6937 - accuracy: 0.4947\n",
      "Epoch 42/100\n",
      "24/24 [==============================] - 0s 390us/step - loss: 0.6937 - accuracy: 0.4947\n",
      "Epoch 43/100\n",
      "24/24 [==============================] - 0s 390us/step - loss: 0.6936 - accuracy: 0.4947\n",
      "Epoch 44/100\n",
      "24/24 [==============================] - 0s 390us/step - loss: 0.6936 - accuracy: 0.4973\n",
      "Epoch 45/100\n",
      "24/24 [==============================] - 0s 390us/step - loss: 0.6935 - accuracy: 0.4973\n",
      "Epoch 46/100\n",
      "24/24 [==============================] - 0s 434us/step - loss: 0.6935 - accuracy: 0.4973\n",
      "Epoch 47/100\n",
      "24/24 [==============================] - 0s 390us/step - loss: 0.6935 - accuracy: 0.4973\n",
      "Epoch 48/100\n",
      "24/24 [==============================] - 0s 434us/step - loss: 0.6935 - accuracy: 0.4973\n",
      "Epoch 49/100\n",
      "24/24 [==============================] - 0s 434us/step - loss: 0.6934 - accuracy: 0.5000\n",
      "Epoch 50/100\n",
      "24/24 [==============================] - 0s 390us/step - loss: 0.6934 - accuracy: 0.5000\n",
      "Epoch 51/100\n",
      "24/24 [==============================] - 0s 390us/step - loss: 0.6934 - accuracy: 0.5000\n",
      "Epoch 52/100\n",
      "24/24 [==============================] - 0s 390us/step - loss: 0.6934 - accuracy: 0.5000\n",
      "Epoch 53/100\n",
      "24/24 [==============================] - 0s 390us/step - loss: 0.6933 - accuracy: 0.5013\n",
      "Epoch 54/100\n",
      "24/24 [==============================] - 0s 434us/step - loss: 0.6933 - accuracy: 0.5013\n",
      "Epoch 55/100\n",
      "24/24 [==============================] - 0s 390us/step - loss: 0.6933 - accuracy: 0.5040\n",
      "Epoch 56/100\n",
      "24/24 [==============================] - 0s 347us/step - loss: 0.6933 - accuracy: 0.5040\n",
      "Epoch 57/100\n",
      "24/24 [==============================] - 0s 390us/step - loss: 0.6933 - accuracy: 0.5040\n",
      "Epoch 58/100\n",
      "24/24 [==============================] - 0s 390us/step - loss: 0.6933 - accuracy: 0.5040\n",
      "Epoch 59/100\n",
      "24/24 [==============================] - 0s 390us/step - loss: 0.6932 - accuracy: 0.5040\n",
      "Epoch 60/100\n",
      "24/24 [==============================] - 0s 390us/step - loss: 0.6932 - accuracy: 0.5040\n",
      "Epoch 61/100\n",
      "24/24 [==============================] - 0s 434us/step - loss: 0.6932 - accuracy: 0.5040\n",
      "Epoch 62/100\n",
      "24/24 [==============================] - 0s 434us/step - loss: 0.6932 - accuracy: 0.5040\n",
      "Epoch 63/100\n",
      "24/24 [==============================] - 0s 390us/step - loss: 0.6932 - accuracy: 0.5040\n",
      "Epoch 64/100\n",
      "24/24 [==============================] - 0s 390us/step - loss: 0.6932 - accuracy: 0.5040\n",
      "Epoch 65/100\n",
      "24/24 [==============================] - 0s 390us/step - loss: 0.6932 - accuracy: 0.5040\n",
      "Epoch 66/100\n",
      "24/24 [==============================] - 0s 477us/step - loss: 0.6932 - accuracy: 0.5040\n",
      "Epoch 67/100\n",
      "24/24 [==============================] - 0s 434us/step - loss: 0.6932 - accuracy: 0.5040\n",
      "Epoch 68/100\n",
      "24/24 [==============================] - 0s 434us/step - loss: 0.6932 - accuracy: 0.5040\n",
      "Epoch 69/100\n",
      "24/24 [==============================] - 0s 434us/step - loss: 0.6931 - accuracy: 0.5040\n",
      "Epoch 70/100\n",
      "24/24 [==============================] - 0s 390us/step - loss: 0.6931 - accuracy: 0.5040\n",
      "Epoch 71/100\n",
      "24/24 [==============================] - 0s 434us/step - loss: 0.6931 - accuracy: 0.5040\n",
      "Epoch 72/100\n",
      "24/24 [==============================] - 0s 434us/step - loss: 0.6932 - accuracy: 0.5040\n",
      "Epoch 73/100\n",
      "24/24 [==============================] - 0s 390us/step - loss: 0.6931 - accuracy: 0.5040\n",
      "Epoch 74/100\n",
      "24/24 [==============================] - 0s 390us/step - loss: 0.6931 - accuracy: 0.5040\n",
      "Epoch 75/100\n",
      "24/24 [==============================] - 0s 434us/step - loss: 0.6931 - accuracy: 0.5040\n",
      "Epoch 76/100\n",
      "24/24 [==============================] - 0s 390us/step - loss: 0.6931 - accuracy: 0.5040\n",
      "Epoch 77/100\n",
      "24/24 [==============================] - 0s 390us/step - loss: 0.6931 - accuracy: 0.5040\n",
      "Epoch 78/100\n",
      "24/24 [==============================] - 0s 390us/step - loss: 0.6931 - accuracy: 0.5040\n",
      "Epoch 79/100\n",
      "24/24 [==============================] - 0s 390us/step - loss: 0.6931 - accuracy: 0.5053\n",
      "Epoch 80/100\n",
      "24/24 [==============================] - 0s 434us/step - loss: 0.6932 - accuracy: 0.5053\n",
      "Epoch 81/100\n"
     ]
    },
    {
     "name": "stdout",
     "output_type": "stream",
     "text": [
      "24/24 [==============================] - 0s 390us/step - loss: 0.6931 - accuracy: 0.5053\n",
      "Epoch 82/100\n",
      "24/24 [==============================] - 0s 390us/step - loss: 0.6931 - accuracy: 0.5053\n",
      "Epoch 83/100\n",
      "24/24 [==============================] - 0s 434us/step - loss: 0.6931 - accuracy: 0.5053\n",
      "Epoch 84/100\n",
      "24/24 [==============================] - 0s 390us/step - loss: 0.6931 - accuracy: 0.5053\n",
      "Epoch 85/100\n",
      "24/24 [==============================] - 0s 434us/step - loss: 0.6931 - accuracy: 0.5053\n",
      "Epoch 86/100\n",
      "24/24 [==============================] - 0s 434us/step - loss: 0.6931 - accuracy: 0.5053\n",
      "Epoch 87/100\n",
      "24/24 [==============================] - 0s 433us/step - loss: 0.6931 - accuracy: 0.5053\n",
      "Epoch 88/100\n",
      "24/24 [==============================] - 0s 390us/step - loss: 0.6931 - accuracy: 0.5053\n",
      "Epoch 89/100\n",
      "24/24 [==============================] - 0s 390us/step - loss: 0.6931 - accuracy: 0.5053\n",
      "Epoch 90/100\n",
      "24/24 [==============================] - 0s 390us/step - loss: 0.6931 - accuracy: 0.5053\n",
      "Epoch 91/100\n",
      "24/24 [==============================] - 0s 390us/step - loss: 0.6931 - accuracy: 0.5053\n",
      "Epoch 92/100\n",
      "24/24 [==============================] - 0s 390us/step - loss: 0.6931 - accuracy: 0.5053\n",
      "Epoch 93/100\n",
      "24/24 [==============================] - 0s 390us/step - loss: 0.6931 - accuracy: 0.5067\n",
      "Epoch 94/100\n",
      "24/24 [==============================] - 0s 390us/step - loss: 0.6931 - accuracy: 0.5067\n",
      "Epoch 95/100\n",
      "24/24 [==============================] - 0s 390us/step - loss: 0.6931 - accuracy: 0.5067\n",
      "Epoch 96/100\n",
      "24/24 [==============================] - 0s 384us/step - loss: 0.6931 - accuracy: 0.5067\n",
      "Epoch 97/100\n",
      "24/24 [==============================] - 0s 390us/step - loss: 0.6931 - accuracy: 0.5067\n",
      "Epoch 98/100\n",
      "24/24 [==============================] - 0s 390us/step - loss: 0.6931 - accuracy: 0.5067\n",
      "Epoch 99/100\n",
      "24/24 [==============================] - 0s 390us/step - loss: 0.6931 - accuracy: 0.5067\n",
      "Epoch 100/100\n",
      "24/24 [==============================] - 0s 390us/step - loss: 0.6931 - accuracy: 0.5067\n"
     ]
    }
   ],
   "source": [
    "# Fit the model to the training data.\n",
    "fit_model = nn_model.fit(X_train_scaled, y_train, epochs=100)"
   ]
  },
  {
   "cell_type": "code",
   "execution_count": 11,
   "id": "24162f67",
   "metadata": {},
   "outputs": [
    {
     "data": {
      "text/plain": [
       "<AxesSubplot:>"
      ]
     },
     "execution_count": 11,
     "metadata": {},
     "output_type": "execute_result"
    },
    {
     "data": {
      "image/png": "[encoded data removed]",
      "text/plain": [
       "<Figure size 432x288 with 1 Axes>"
      ]
     },
     "metadata": {
      "needs_background": "light"
     },
     "output_type": "display_data"
    }
   ],
   "source": [
    "# Create a DataFrame to contain the training history.\n",
    "hist_df = pd.DataFrame(fit_model.history, index=range(1, len(fit_model.history[\"loss\"])+1))\n",
    "\n",
    "# Plot the loss.\n",
    "hist_df.plot(y='loss')"
   ]
  },
  {
   "cell_type": "code",
   "execution_count": 12,
   "id": "df37a020",
   "metadata": {},
   "outputs": [
    {
     "data": {
      "text/plain": [
       "<AxesSubplot:>"
      ]
     },
     "execution_count": 12,
     "metadata": {},
     "output_type": "execute_result"
    },
    {
     "data": {
      "image/png": "[encoded data removed]",
      "text/plain": [
       "<Figure size 432x288 with 1 Axes>"
      ]
     },
     "metadata": {
      "needs_background": "light"
     },
     "output_type": "display_data"
    }
   ],
   "source": [
    "# Plot the accuracy with the same DF.\n",
    "hist_df.plot(y='accuracy')"
   ]
  },
  {
   "cell_type": "code",
   "execution_count": 13,
   "id": "bc97d879",
   "metadata": {},
   "outputs": [
    {
     "name": "stdout",
     "output_type": "stream",
     "text": [
      "8/8 - 0s - loss: 0.6939 - accuracy: 0.4800\n",
      "Loss: 0.6939134001731873, Accuracy: 0.47999998927116394\n"
     ]
    }
   ],
   "source": [
    "# Evaluate the model using the test data.\n",
    "model_loss, model_accuracy = nn_model.evaluate(X_test_scaled, y_test, verbose=2)\n",
    "print(f\"Loss: {model_loss}, Accuracy: {model_accuracy}\")"
   ]
  },
  {
   "cell_type": "code",
   "execution_count": 14,
   "id": "a4e39ca4",
   "metadata": {},
   "outputs": [
    {
     "data": {
      "text/plain": [
       "array([[0],\n",
       "       [0],\n",
       "       [0],\n",
       "       [0],\n",
       "       [0],\n",
       "       [0],\n",
       "       [0],\n",
       "       [0],\n",
       "       [0],\n",
       "       [0]])"
      ]
     },
     "execution_count": 14,
     "metadata": {},
     "output_type": "execute_result"
    }
   ],
   "source": [
    "# Predict the classification of a new set of blob data.\n",
    "new_X, new_y = make_blobs(n_samples=10, centers=2, n_features=2, random_state=78)\n",
    "# Use same trained scaling method.\n",
    "new_X_scaled = X_scaler.transform(new_X)\n",
    "# Predict the classification, using 50% cut-off.\n",
    "(nn_model.predict(new_X_scaled) > 0.5).astype('int32')"
   ]
  },
  {
   "cell_type": "code",
   "execution_count": 15,
   "id": "29eee72f",
   "metadata": {},
   "outputs": [
    {
     "name": "stdout",
     "output_type": "stream",
     "text": [
      "1/1 - 0s - loss: 0.6933 - accuracy: 0.5000\n",
      "Loss: 0.6932609677314758, Accuracy: 0.5\n"
     ]
    }
   ],
   "source": [
    "# Compare to new_y.\n",
    "model_loss, model_accuracy = nn_model.evaluate(new_X_scaled, new_y, verbose=2)\n",
    "print(f\"Loss: {model_loss}, Accuracy: {model_accuracy}\")"
   ]
  },
  {
   "cell_type": "code",
   "execution_count": 16,
   "id": "14c95d5a",
   "metadata": {},
   "outputs": [
    {
     "data": {
      "text/plain": [
       "<AxesSubplot:xlabel='Feature 1', ylabel='Feature 2'>"
      ]
     },
     "execution_count": 16,
     "metadata": {},
     "output_type": "execute_result"
    },
    {
     "data": {
      "image/png": "[encoded data removed]",
      "text/plain": [
       "<Figure size 432x288 with 2 Axes>"
      ]
     },
     "metadata": {
      "needs_background": "light"
     },
     "output_type": "display_data"
    }
   ],
   "source": [
    "# Create new dummy data in shape of moons.\n",
    "from sklearn.datasets import make_moons\n",
    "\n",
    "X_moons, y_moons = make_moons(n_samples=1000, noise=0.08, random_state=78)\n",
    "\n",
    "# Transform the y_moons data to a vertical vector.\n",
    "y_moons = y_moons.reshape(-1, 1)\n",
    "\n",
    "# Create a DataFrame to plot the nonlinear data.\n",
    "df = pd.DataFrame(X_moons, columns=['Feature 1', 'Feature 2'])\n",
    "df['Target'] = y_moons\n",
    "\n",
    "# Plot the data.\n",
    "df.plot.scatter(x='Feature 1', y='Feature 2', c='Target', colormap='winter')"
   ]
  },
  {
   "cell_type": "code",
   "execution_count": 17,
   "id": "9a65c8bd",
   "metadata": {},
   "outputs": [],
   "source": [
    "# Split the data.\n",
    "X_moon_train, X_moon_test, y_moon_train, y_moon_test = train_test_split(X_moons, y_moons, random_state=78)\n",
    "\n",
    "# Create scalar instance.\n",
    "X_moon_scaler = skl.preprocessing.StandardScaler()\n",
    "\n",
    "# Fit the scaler.\n",
    "X_moon_scaler.fit(X_moon_train)\n",
    "\n",
    "# Scale data.\n",
    "X_moon_train_scaled = X_moon_scaler.transform(X_moon_train)\n",
    "X_moon_test_scaled = X_moon_scaler.transform(X_moon_test)"
   ]
  },
  {
   "cell_type": "code",
   "execution_count": 18,
   "id": "a9172392",
   "metadata": {},
   "outputs": [
    {
     "name": "stdout",
     "output_type": "stream",
     "text": [
      "Epoch 1/100\n",
      "24/24 [==============================] - 0s 694us/step - loss: 0.6958 - accuracy: 0.4373\n",
      "Epoch 2/100\n",
      "24/24 [==============================] - 0s 607us/step - loss: 0.6928 - accuracy: 0.5227\n",
      "Epoch 3/100\n",
      "24/24 [==============================] - 0s 650us/step - loss: 0.6922 - accuracy: 0.5307\n",
      "Epoch 4/100\n",
      "24/24 [==============================] - 0s 607us/step - loss: 0.6920 - accuracy: 0.5307\n",
      "Epoch 5/100\n",
      "24/24 [==============================] - 0s 650us/step - loss: 0.6919 - accuracy: 0.5307\n",
      "Epoch 6/100\n",
      "24/24 [==============================] - 0s 650us/step - loss: 0.6918 - accuracy: 0.5307\n",
      "Epoch 7/100\n",
      "24/24 [==============================] - 0s 607us/step - loss: 0.6917 - accuracy: 0.5307\n",
      "Epoch 8/100\n",
      "24/24 [==============================] - 0s 650us/step - loss: 0.6917 - accuracy: 0.5307\n",
      "Epoch 9/100\n",
      "24/24 [==============================] - 0s 607us/step - loss: 0.6916 - accuracy: 0.5307\n",
      "Epoch 10/100\n",
      "24/24 [==============================] - 0s 607us/step - loss: 0.6916 - accuracy: 0.5307\n",
      "Epoch 11/100\n",
      "24/24 [==============================] - 0s 650us/step - loss: 0.6915 - accuracy: 0.5307\n",
      "Epoch 12/100\n",
      "24/24 [==============================] - 0s 650us/step - loss: 0.6915 - accuracy: 0.5307\n",
      "Epoch 13/100\n",
      "24/24 [==============================] - 0s 607us/step - loss: 0.6915 - accuracy: 0.5307\n",
      "Epoch 14/100\n",
      "24/24 [==============================] - 0s 650us/step - loss: 0.6915 - accuracy: 0.5307\n",
      "Epoch 15/100\n",
      "24/24 [==============================] - 0s 650us/step - loss: 0.6915 - accuracy: 0.5307\n",
      "Epoch 16/100\n",
      "24/24 [==============================] - 0s 650us/step - loss: 0.6914 - accuracy: 0.5307\n",
      "Epoch 17/100\n",
      "24/24 [==============================] - 0s 650us/step - loss: 0.6914 - accuracy: 0.5307\n",
      "Epoch 18/100\n",
      "24/24 [==============================] - 0s 650us/step - loss: 0.6914 - accuracy: 0.5307\n",
      "Epoch 19/100\n",
      "24/24 [==============================] - 0s 650us/step - loss: 0.6914 - accuracy: 0.5307\n",
      "Epoch 20/100\n",
      "24/24 [==============================] - 0s 650us/step - loss: 0.6913 - accuracy: 0.5307\n",
      "Epoch 21/100\n",
      "24/24 [==============================] - 0s 650us/step - loss: 0.6914 - accuracy: 0.5307\n",
      "Epoch 22/100\n",
      "24/24 [==============================] - 0s 607us/step - loss: 0.6914 - accuracy: 0.5307\n",
      "Epoch 23/100\n",
      "24/24 [==============================] - 0s 650us/step - loss: 0.6913 - accuracy: 0.5307\n",
      "Epoch 24/100\n",
      "24/24 [==============================] - 0s 607us/step - loss: 0.6913 - accuracy: 0.5307\n",
      "Epoch 25/100\n",
      "24/24 [==============================] - 0s 694us/step - loss: 0.6913 - accuracy: 0.5307\n",
      "Epoch 26/100\n",
      "24/24 [==============================] - 0s 607us/step - loss: 0.6913 - accuracy: 0.5307\n",
      "Epoch 27/100\n",
      "24/24 [==============================] - 0s 607us/step - loss: 0.6913 - accuracy: 0.5307\n",
      "Epoch 28/100\n",
      "24/24 [==============================] - 0s 650us/step - loss: 0.6913 - accuracy: 0.5307\n",
      "Epoch 29/100\n",
      "24/24 [==============================] - 0s 650us/step - loss: 0.6913 - accuracy: 0.5307\n",
      "Epoch 30/100\n",
      "24/24 [==============================] - 0s 650us/step - loss: 0.6913 - accuracy: 0.5307\n",
      "Epoch 31/100\n",
      "24/24 [==============================] - 0s 607us/step - loss: 0.6913 - accuracy: 0.5307\n",
      "Epoch 32/100\n",
      "24/24 [==============================] - 0s 650us/step - loss: 0.6913 - accuracy: 0.5307\n",
      "Epoch 33/100\n",
      "24/24 [==============================] - 0s 607us/step - loss: 0.6913 - accuracy: 0.5307\n",
      "Epoch 34/100\n",
      "24/24 [==============================] - 0s 607us/step - loss: 0.6913 - accuracy: 0.5307\n",
      "Epoch 35/100\n",
      "24/24 [==============================] - 0s 650us/step - loss: 0.6913 - accuracy: 0.5307\n",
      "Epoch 36/100\n",
      "24/24 [==============================] - 0s 607us/step - loss: 0.6913 - accuracy: 0.5307\n",
      "Epoch 37/100\n",
      "24/24 [==============================] - 0s 607us/step - loss: 0.6913 - accuracy: 0.5307\n",
      "Epoch 38/100\n",
      "24/24 [==============================] - 0s 650us/step - loss: 0.6913 - accuracy: 0.5307\n",
      "Epoch 39/100\n",
      "24/24 [==============================] - 0s 607us/step - loss: 0.6913 - accuracy: 0.5307\n",
      "Epoch 40/100\n",
      "24/24 [==============================] - 0s 607us/step - loss: 0.6913 - accuracy: 0.5307\n",
      "Epoch 41/100\n",
      "24/24 [==============================] - 0s 607us/step - loss: 0.6913 - accuracy: 0.5307\n",
      "Epoch 42/100\n",
      "24/24 [==============================] - 0s 650us/step - loss: 0.6913 - accuracy: 0.5307\n",
      "Epoch 43/100\n",
      "24/24 [==============================] - 0s 650us/step - loss: 0.6913 - accuracy: 0.5307\n",
      "Epoch 44/100\n",
      "24/24 [==============================] - 0s 607us/step - loss: 0.6913 - accuracy: 0.5307\n",
      "Epoch 45/100\n",
      "24/24 [==============================] - 0s 607us/step - loss: 0.6913 - accuracy: 0.5307\n",
      "Epoch 46/100\n",
      "24/24 [==============================] - 0s 607us/step - loss: 0.6913 - accuracy: 0.5307\n",
      "Epoch 47/100\n",
      "24/24 [==============================] - 0s 607us/step - loss: 0.6913 - accuracy: 0.5307\n",
      "Epoch 48/100\n",
      "24/24 [==============================] - 0s 650us/step - loss: 0.6913 - accuracy: 0.5307\n",
      "Epoch 49/100\n",
      "24/24 [==============================] - 0s 607us/step - loss: 0.6913 - accuracy: 0.5307\n",
      "Epoch 50/100\n",
      "24/24 [==============================] - 0s 650us/step - loss: 0.6913 - accuracy: 0.5307\n",
      "Epoch 51/100\n",
      "24/24 [==============================] - 0s 650us/step - loss: 0.6913 - accuracy: 0.5307\n",
      "Epoch 52/100\n",
      "24/24 [==============================] - 0s 650us/step - loss: 0.6913 - accuracy: 0.5307\n",
      "Epoch 53/100\n",
      "24/24 [==============================] - 0s 781us/step - loss: 0.6913 - accuracy: 0.5307\n",
      "Epoch 54/100\n",
      "24/24 [==============================] - 0s 650us/step - loss: 0.6913 - accuracy: 0.5307\n",
      "Epoch 55/100\n",
      "24/24 [==============================] - 0s 607us/step - loss: 0.6913 - accuracy: 0.5307\n",
      "Epoch 56/100\n",
      "24/24 [==============================] - 0s 607us/step - loss: 0.6913 - accuracy: 0.5307\n",
      "Epoch 57/100\n",
      "24/24 [==============================] - 0s 650us/step - loss: 0.6913 - accuracy: 0.5307\n",
      "Epoch 58/100\n",
      "24/24 [==============================] - 0s 645us/step - loss: 0.6913 - accuracy: 0.5307\n",
      "Epoch 59/100\n",
      "24/24 [==============================] - 0s 607us/step - loss: 0.6913 - accuracy: 0.5307\n",
      "Epoch 60/100\n",
      "24/24 [==============================] - 0s 607us/step - loss: 0.6913 - accuracy: 0.5307\n",
      "Epoch 61/100\n",
      "24/24 [==============================] - 0s 607us/step - loss: 0.6913 - accuracy: 0.5307\n",
      "Epoch 62/100\n",
      "24/24 [==============================] - 0s 650us/step - loss: 0.6913 - accuracy: 0.5307\n",
      "Epoch 63/100\n",
      "24/24 [==============================] - 0s 650us/step - loss: 0.6913 - accuracy: 0.5307\n",
      "Epoch 64/100\n",
      "24/24 [==============================] - 0s 607us/step - loss: 0.6913 - accuracy: 0.5307\n",
      "Epoch 65/100\n",
      "24/24 [==============================] - 0s 607us/step - loss: 0.6913 - accuracy: 0.5307\n",
      "Epoch 66/100\n",
      "24/24 [==============================] - 0s 607us/step - loss: 0.6913 - accuracy: 0.5307\n",
      "Epoch 67/100\n",
      "24/24 [==============================] - 0s 607us/step - loss: 0.6913 - accuracy: 0.5307\n",
      "Epoch 68/100\n",
      "24/24 [==============================] - 0s 650us/step - loss: 0.6913 - accuracy: 0.5307\n",
      "Epoch 69/100\n",
      "24/24 [==============================] - 0s 650us/step - loss: 0.6913 - accuracy: 0.5307\n",
      "Epoch 70/100\n",
      "24/24 [==============================] - 0s 650us/step - loss: 0.6913 - accuracy: 0.5307\n",
      "Epoch 71/100\n",
      "24/24 [==============================] - 0s 607us/step - loss: 0.6913 - accuracy: 0.5307\n",
      "Epoch 72/100\n",
      "24/24 [==============================] - 0s 650us/step - loss: 0.6913 - accuracy: 0.5307\n",
      "Epoch 73/100\n",
      "24/24 [==============================] - 0s 607us/step - loss: 0.6913 - accuracy: 0.5307\n",
      "Epoch 74/100\n",
      "24/24 [==============================] - 0s 650us/step - loss: 0.6913 - accuracy: 0.5307\n",
      "Epoch 75/100\n",
      "24/24 [==============================] - 0s 650us/step - loss: 0.6913 - accuracy: 0.5307\n",
      "Epoch 76/100\n",
      "24/24 [==============================] - 0s 650us/step - loss: 0.6913 - accuracy: 0.5307\n",
      "Epoch 77/100\n",
      "24/24 [==============================] - 0s 640us/step - loss: 0.6913 - accuracy: 0.5307\n",
      "Epoch 78/100\n",
      "24/24 [==============================] - 0s 607us/step - loss: 0.6913 - accuracy: 0.5307\n",
      "Epoch 79/100\n",
      "24/24 [==============================] - 0s 607us/step - loss: 0.6913 - accuracy: 0.5307\n",
      "Epoch 80/100\n",
      "24/24 [==============================] - 0s 650us/step - loss: 0.6913 - accuracy: 0.5307\n",
      "Epoch 81/100\n"
     ]
    },
    {
     "name": "stdout",
     "output_type": "stream",
     "text": [
      "24/24 [==============================] - 0s 650us/step - loss: 0.6913 - accuracy: 0.5307\n",
      "Epoch 82/100\n",
      "24/24 [==============================] - 0s 650us/step - loss: 0.6913 - accuracy: 0.5307\n",
      "Epoch 83/100\n",
      "24/24 [==============================] - 0s 781us/step - loss: 0.6913 - accuracy: 0.5307\n",
      "Epoch 84/100\n",
      "24/24 [==============================] - 0s 650us/step - loss: 0.6913 - accuracy: 0.5307\n",
      "Epoch 85/100\n",
      "24/24 [==============================] - 0s 694us/step - loss: 0.6913 - accuracy: 0.5307\n",
      "Epoch 86/100\n",
      "24/24 [==============================] - 0s 607us/step - loss: 0.6913 - accuracy: 0.5307\n",
      "Epoch 87/100\n",
      "24/24 [==============================] - 0s 607us/step - loss: 0.6913 - accuracy: 0.5307\n",
      "Epoch 88/100\n",
      "24/24 [==============================] - 0s 607us/step - loss: 0.6913 - accuracy: 0.5307\n",
      "Epoch 89/100\n",
      "24/24 [==============================] - 0s 650us/step - loss: 0.6913 - accuracy: 0.5307\n",
      "Epoch 90/100\n",
      "24/24 [==============================] - 0s 650us/step - loss: 0.6913 - accuracy: 0.5307\n",
      "Epoch 91/100\n",
      "24/24 [==============================] - 0s 607us/step - loss: 0.6913 - accuracy: 0.5307\n",
      "Epoch 92/100\n",
      "24/24 [==============================] - 0s 607us/step - loss: 0.6913 - accuracy: 0.5307\n",
      "Epoch 93/100\n",
      "24/24 [==============================] - 0s 650us/step - loss: 0.6913 - accuracy: 0.5307\n",
      "Epoch 94/100\n",
      "24/24 [==============================] - 0s 650us/step - loss: 0.6913 - accuracy: 0.5307\n",
      "Epoch 95/100\n",
      "24/24 [==============================] - 0s 607us/step - loss: 0.6913 - accuracy: 0.5307\n",
      "Epoch 96/100\n",
      "24/24 [==============================] - 0s 607us/step - loss: 0.6913 - accuracy: 0.5307\n",
      "Epoch 97/100\n",
      "24/24 [==============================] - 0s 650us/step - loss: 0.6913 - accuracy: 0.5307\n",
      "Epoch 98/100\n",
      "24/24 [==============================] - 0s 607us/step - loss: 0.6913 - accuracy: 0.5307\n",
      "Epoch 99/100\n",
      "24/24 [==============================] - 0s 650us/step - loss: 0.6913 - accuracy: 0.5307\n",
      "Epoch 100/100\n",
      "24/24 [==============================] - 0s 607us/step - loss: 0.6913 - accuracy: 0.5307\n"
     ]
    }
   ],
   "source": [
    "# Train the model with the nonlinear data.\n",
    "model_moon = nn_model.fit(X_moon_train_scaled, y_moon_train, epochs=100, shuffle=True)"
   ]
  },
  {
   "cell_type": "code",
   "execution_count": 19,
   "id": "3e8bf1e0",
   "metadata": {},
   "outputs": [
    {
     "data": {
      "text/plain": [
       "<AxesSubplot:>"
      ]
     },
     "execution_count": 19,
     "metadata": {},
     "output_type": "execute_result"
    },
    {
     "data": {
      "image/png": "[encoded data removed]",
      "text/plain": [
       "<Figure size 432x288 with 1 Axes>"
      ]
     },
     "metadata": {
      "needs_background": "light"
     },
     "output_type": "display_data"
    }
   ],
   "source": [
    "# Create training history DF.\n",
    "hist_df = pd.DataFrame(model_moon.history, index=range(1, len(model_moon.history[\"loss\"])+1))\n",
    "\n",
    "# Plot loss.\n",
    "hist_df.plot(y='loss')"
   ]
  },
  {
   "cell_type": "code",
   "execution_count": 20,
   "id": "ad9d5b35",
   "metadata": {},
   "outputs": [
    {
     "data": {
      "text/plain": [
       "<AxesSubplot:>"
      ]
     },
     "execution_count": 20,
     "metadata": {},
     "output_type": "execute_result"
    },
    {
     "data": {
      "image/png": "[encoded data removed]",
      "text/plain": [
       "<Figure size 432x288 with 1 Axes>"
      ]
     },
     "metadata": {
      "needs_background": "light"
     },
     "output_type": "display_data"
    }
   ],
   "source": [
    "# Plot accuracy.\n",
    "hist_df.plot(y='accuracy')"
   ]
  },
  {
   "cell_type": "code",
   "execution_count": 21,
   "id": "554251d1",
   "metadata": {},
   "outputs": [],
   "source": [
    "# Generate a new Sequential model.\n",
    "new_model = tf.keras.models.Sequential()"
   ]
  },
  {
   "cell_type": "code",
   "execution_count": 22,
   "id": "404a6a70",
   "metadata": {},
   "outputs": [],
   "source": [
    "# Add input and hidden layer.\n",
    "number_inputs = 2\n",
    "number_hidden_nodes = 6\n",
    "\n",
    "# Add Dense layer.\n",
    "new_model.add(tf.keras.layers.Dense(units=number_hidden_nodes, activation='relu', input_dim=number_inputs))\n",
    "\n",
    "# Add the output layer that uses a probability activation function.\n",
    "new_model.add(tf.keras.layers.Dense(units=1, activation='sigmoid'))"
   ]
  },
  {
   "cell_type": "code",
   "execution_count": 23,
   "id": "3d2642fa",
   "metadata": {},
   "outputs": [
    {
     "name": "stdout",
     "output_type": "stream",
     "text": [
      "Epoch 1/100\n",
      "24/24 [==============================] - 0s 477us/step - loss: 0.7473 - accuracy: 0.4693\n",
      "Epoch 2/100\n",
      "24/24 [==============================] - 0s 434us/step - loss: 0.6931 - accuracy: 0.4853\n",
      "Epoch 3/100\n",
      "24/24 [==============================] - 0s 390us/step - loss: 0.6457 - accuracy: 0.5173\n",
      "Epoch 4/100\n",
      "24/24 [==============================] - 0s 390us/step - loss: 0.6036 - accuracy: 0.5467\n",
      "Epoch 5/100\n",
      "24/24 [==============================] - 0s 434us/step - loss: 0.5667 - accuracy: 0.5520\n",
      "Epoch 6/100\n",
      "24/24 [==============================] - 0s 434us/step - loss: 0.5348 - accuracy: 0.5920\n",
      "Epoch 7/100\n",
      "24/24 [==============================] - 0s 390us/step - loss: 0.5064 - accuracy: 0.6760\n",
      "Epoch 8/100\n",
      "24/24 [==============================] - 0s 390us/step - loss: 0.4815 - accuracy: 0.8453\n",
      "Epoch 9/100\n",
      "24/24 [==============================] - 0s 390us/step - loss: 0.4597 - accuracy: 0.8680\n",
      "Epoch 10/100\n",
      "24/24 [==============================] - 0s 390us/step - loss: 0.4404 - accuracy: 0.8720\n",
      "Epoch 11/100\n",
      "24/24 [==============================] - 0s 390us/step - loss: 0.4232 - accuracy: 0.8707\n",
      "Epoch 12/100\n",
      "24/24 [==============================] - 0s 390us/step - loss: 0.4078 - accuracy: 0.8707\n",
      "Epoch 13/100\n",
      "24/24 [==============================] - 0s 434us/step - loss: 0.3937 - accuracy: 0.8747\n",
      "Epoch 14/100\n",
      "24/24 [==============================] - 0s 390us/step - loss: 0.3813 - accuracy: 0.8747\n",
      "Epoch 15/100\n",
      "24/24 [==============================] - 0s 434us/step - loss: 0.3699 - accuracy: 0.8760\n",
      "Epoch 16/100\n",
      "24/24 [==============================] - 0s 434us/step - loss: 0.3597 - accuracy: 0.8800\n",
      "Epoch 17/100\n",
      "24/24 [==============================] - 0s 434us/step - loss: 0.3501 - accuracy: 0.8813\n",
      "Epoch 18/100\n",
      "24/24 [==============================] - 0s 390us/step - loss: 0.3416 - accuracy: 0.8840\n",
      "Epoch 19/100\n",
      "24/24 [==============================] - 0s 390us/step - loss: 0.3337 - accuracy: 0.8840\n",
      "Epoch 20/100\n",
      "24/24 [==============================] - 0s 390us/step - loss: 0.3267 - accuracy: 0.8840\n",
      "Epoch 21/100\n",
      "24/24 [==============================] - 0s 390us/step - loss: 0.3200 - accuracy: 0.8840\n",
      "Epoch 22/100\n",
      "24/24 [==============================] - 0s 434us/step - loss: 0.3141 - accuracy: 0.8840\n",
      "Epoch 23/100\n",
      "24/24 [==============================] - 0s 434us/step - loss: 0.3086 - accuracy: 0.8840\n",
      "Epoch 24/100\n",
      "24/24 [==============================] - 0s 390us/step - loss: 0.3037 - accuracy: 0.8853\n",
      "Epoch 25/100\n",
      "24/24 [==============================] - 0s 390us/step - loss: 0.2993 - accuracy: 0.8853\n",
      "Epoch 26/100\n",
      "24/24 [==============================] - 0s 434us/step - loss: 0.2951 - accuracy: 0.8853\n",
      "Epoch 27/100\n",
      "24/24 [==============================] - 0s 434us/step - loss: 0.2913 - accuracy: 0.8853\n",
      "Epoch 28/100\n",
      "24/24 [==============================] - 0s 393us/step - loss: 0.2881 - accuracy: 0.8853\n",
      "Epoch 29/100\n",
      "24/24 [==============================] - 0s 390us/step - loss: 0.2850 - accuracy: 0.8853\n",
      "Epoch 30/100\n",
      "24/24 [==============================] - 0s 390us/step - loss: 0.2821 - accuracy: 0.8840\n",
      "Epoch 31/100\n",
      "24/24 [==============================] - 0s 390us/step - loss: 0.2796 - accuracy: 0.8867\n",
      "Epoch 32/100\n",
      "24/24 [==============================] - 0s 390us/step - loss: 0.2770 - accuracy: 0.8867\n",
      "Epoch 33/100\n",
      "24/24 [==============================] - 0s 390us/step - loss: 0.2750 - accuracy: 0.8893\n",
      "Epoch 34/100\n",
      "24/24 [==============================] - 0s 390us/step - loss: 0.2729 - accuracy: 0.8907\n",
      "Epoch 35/100\n",
      "24/24 [==============================] - 0s 434us/step - loss: 0.2712 - accuracy: 0.8907\n",
      "Epoch 36/100\n",
      "24/24 [==============================] - 0s 434us/step - loss: 0.2697 - accuracy: 0.8907\n",
      "Epoch 37/100\n",
      "24/24 [==============================] - 0s 428us/step - loss: 0.2682 - accuracy: 0.8893\n",
      "Epoch 38/100\n",
      "24/24 [==============================] - 0s 434us/step - loss: 0.2668 - accuracy: 0.8893\n",
      "Epoch 39/100\n",
      "24/24 [==============================] - 0s 434us/step - loss: 0.2657 - accuracy: 0.8893\n",
      "Epoch 40/100\n",
      "24/24 [==============================] - 0s 390us/step - loss: 0.2645 - accuracy: 0.8893\n",
      "Epoch 41/100\n",
      "24/24 [==============================] - 0s 390us/step - loss: 0.2635 - accuracy: 0.8893\n",
      "Epoch 42/100\n",
      "24/24 [==============================] - 0s 390us/step - loss: 0.2625 - accuracy: 0.8907\n",
      "Epoch 43/100\n",
      "24/24 [==============================] - 0s 390us/step - loss: 0.2616 - accuracy: 0.8893\n",
      "Epoch 44/100\n",
      "24/24 [==============================] - 0s 434us/step - loss: 0.2608 - accuracy: 0.8920\n",
      "Epoch 45/100\n",
      "24/24 [==============================] - 0s 434us/step - loss: 0.2601 - accuracy: 0.8920\n",
      "Epoch 46/100\n",
      "24/24 [==============================] - 0s 427us/step - loss: 0.2596 - accuracy: 0.8920\n",
      "Epoch 47/100\n",
      "24/24 [==============================] - 0s 390us/step - loss: 0.2589 - accuracy: 0.8920\n",
      "Epoch 48/100\n",
      "24/24 [==============================] - 0s 390us/step - loss: 0.2582 - accuracy: 0.8920\n",
      "Epoch 49/100\n",
      "24/24 [==============================] - 0s 390us/step - loss: 0.2577 - accuracy: 0.8933\n",
      "Epoch 50/100\n",
      "24/24 [==============================] - 0s 390us/step - loss: 0.2571 - accuracy: 0.8933\n",
      "Epoch 51/100\n",
      "24/24 [==============================] - 0s 390us/step - loss: 0.2567 - accuracy: 0.8933\n",
      "Epoch 52/100\n",
      "24/24 [==============================] - 0s 390us/step - loss: 0.2563 - accuracy: 0.8933\n",
      "Epoch 53/100\n",
      "24/24 [==============================] - 0s 390us/step - loss: 0.2559 - accuracy: 0.8960\n",
      "Epoch 54/100\n",
      "24/24 [==============================] - 0s 390us/step - loss: 0.2556 - accuracy: 0.8933\n",
      "Epoch 55/100\n",
      "24/24 [==============================] - 0s 390us/step - loss: 0.2552 - accuracy: 0.8947\n",
      "Epoch 56/100\n",
      "24/24 [==============================] - 0s 434us/step - loss: 0.2548 - accuracy: 0.8960\n",
      "Epoch 57/100\n",
      "24/24 [==============================] - 0s 434us/step - loss: 0.2546 - accuracy: 0.8960\n",
      "Epoch 58/100\n",
      "24/24 [==============================] - 0s 434us/step - loss: 0.2544 - accuracy: 0.8960\n",
      "Epoch 59/100\n",
      "24/24 [==============================] - 0s 434us/step - loss: 0.2541 - accuracy: 0.8973\n",
      "Epoch 60/100\n",
      "24/24 [==============================] - 0s 434us/step - loss: 0.2538 - accuracy: 0.8987\n",
      "Epoch 61/100\n",
      "24/24 [==============================] - 0s 434us/step - loss: 0.2535 - accuracy: 0.8973\n",
      "Epoch 62/100\n",
      "24/24 [==============================] - 0s 434us/step - loss: 0.2532 - accuracy: 0.8987\n",
      "Epoch 63/100\n",
      "24/24 [==============================] - 0s 434us/step - loss: 0.2530 - accuracy: 0.8987\n",
      "Epoch 64/100\n",
      "24/24 [==============================] - 0s 417us/step - loss: 0.2528 - accuracy: 0.8987\n",
      "Epoch 65/100\n",
      "24/24 [==============================] - 0s 390us/step - loss: 0.2526 - accuracy: 0.8987\n",
      "Epoch 66/100\n",
      "24/24 [==============================] - 0s 434us/step - loss: 0.2524 - accuracy: 0.8987\n",
      "Epoch 67/100\n",
      "24/24 [==============================] - 0s 434us/step - loss: 0.2521 - accuracy: 0.9000\n",
      "Epoch 68/100\n",
      "24/24 [==============================] - 0s 434us/step - loss: 0.2520 - accuracy: 0.9000\n",
      "Epoch 69/100\n",
      "24/24 [==============================] - 0s 434us/step - loss: 0.2518 - accuracy: 0.9000\n",
      "Epoch 70/100\n",
      "24/24 [==============================] - 0s 434us/step - loss: 0.2515 - accuracy: 0.9000\n",
      "Epoch 71/100\n",
      "24/24 [==============================] - 0s 434us/step - loss: 0.2513 - accuracy: 0.9000\n",
      "Epoch 72/100\n",
      "24/24 [==============================] - 0s 434us/step - loss: 0.2511 - accuracy: 0.9000\n",
      "Epoch 73/100\n",
      "24/24 [==============================] - 0s 432us/step - loss: 0.2509 - accuracy: 0.9000\n",
      "Epoch 74/100\n",
      "24/24 [==============================] - 0s 390us/step - loss: 0.2508 - accuracy: 0.9000\n",
      "Epoch 75/100\n",
      "24/24 [==============================] - 0s 520us/step - loss: 0.2505 - accuracy: 0.9000\n",
      "Epoch 76/100\n",
      "24/24 [==============================] - 0s 520us/step - loss: 0.2503 - accuracy: 0.9000\n",
      "Epoch 77/100\n",
      "24/24 [==============================] - 0s 477us/step - loss: 0.2501 - accuracy: 0.9000\n",
      "Epoch 78/100\n",
      "24/24 [==============================] - 0s 520us/step - loss: 0.2499 - accuracy: 0.9000\n",
      "Epoch 79/100\n",
      "24/24 [==============================] - 0s 477us/step - loss: 0.2498 - accuracy: 0.9000\n",
      "Epoch 80/100\n",
      "24/24 [==============================] - 0s 390us/step - loss: 0.2496 - accuracy: 0.8987\n",
      "Epoch 81/100\n"
     ]
    },
    {
     "name": "stdout",
     "output_type": "stream",
     "text": [
      "24/24 [==============================] - 0s 374us/step - loss: 0.2494 - accuracy: 0.9000\n",
      "Epoch 82/100\n",
      "24/24 [==============================] - 0s 390us/step - loss: 0.2493 - accuracy: 0.9000\n",
      "Epoch 83/100\n",
      "24/24 [==============================] - 0s 390us/step - loss: 0.2489 - accuracy: 0.9000\n",
      "Epoch 84/100\n",
      "24/24 [==============================] - 0s 434us/step - loss: 0.2487 - accuracy: 0.9000\n",
      "Epoch 85/100\n",
      "24/24 [==============================] - 0s 418us/step - loss: 0.2485 - accuracy: 0.9000\n",
      "Epoch 86/100\n",
      "24/24 [==============================] - 0s 390us/step - loss: 0.2483 - accuracy: 0.9000\n",
      "Epoch 87/100\n",
      "24/24 [==============================] - 0s 390us/step - loss: 0.2481 - accuracy: 0.9000\n",
      "Epoch 88/100\n",
      "24/24 [==============================] - 0s 390us/step - loss: 0.2478 - accuracy: 0.9000\n",
      "Epoch 89/100\n",
      "24/24 [==============================] - 0s 390us/step - loss: 0.2476 - accuracy: 0.9000\n",
      "Epoch 90/100\n",
      "24/24 [==============================] - 0s 375us/step - loss: 0.2474 - accuracy: 0.8987\n",
      "Epoch 91/100\n",
      "24/24 [==============================] - 0s 434us/step - loss: 0.2471 - accuracy: 0.8987\n",
      "Epoch 92/100\n",
      "24/24 [==============================] - 0s 390us/step - loss: 0.2469 - accuracy: 0.8987\n",
      "Epoch 93/100\n",
      "24/24 [==============================] - 0s 390us/step - loss: 0.2467 - accuracy: 0.8973\n",
      "Epoch 94/100\n",
      "24/24 [==============================] - 0s 390us/step - loss: 0.2465 - accuracy: 0.8973\n",
      "Epoch 95/100\n",
      "24/24 [==============================] - 0s 390us/step - loss: 0.2462 - accuracy: 0.8960\n",
      "Epoch 96/100\n",
      "24/24 [==============================] - 0s 390us/step - loss: 0.2460 - accuracy: 0.8973\n",
      "Epoch 97/100\n",
      "24/24 [==============================] - 0s 434us/step - loss: 0.2457 - accuracy: 0.8973\n",
      "Epoch 98/100\n",
      "24/24 [==============================] - 0s 434us/step - loss: 0.2455 - accuracy: 0.8987\n",
      "Epoch 99/100\n",
      "24/24 [==============================] - 0s 434us/step - loss: 0.2452 - accuracy: 0.8973\n",
      "Epoch 100/100\n",
      "24/24 [==============================] - 0s 390us/step - loss: 0.2450 - accuracy: 0.8973\n"
     ]
    }
   ],
   "source": [
    "# Complie the model.\n",
    "new_model.compile(loss='binary_crossentropy', optimizer='adam', metrics=['accuracy'])\n",
    "\n",
    "# Fit the model to the scaled training data.\n",
    "new_fit_model = new_model.fit(X_moon_train_scaled, y_moon_train, epochs=100, shuffle=True)"
   ]
  }
 ],
 "metadata": {
  "kernelspec": {
   "display_name": "mlenv",
   "language": "python",
   "name": "mlenv"
  },
  "language_info": {
   "codemirror_mode": {
    "name": "ipython",
    "version": 3
   },
   "file_extension": ".py",
   "mimetype": "text/x-python",
   "name": "python",
   "nbconvert_exporter": "python",
   "pygments_lexer": "ipython3",
   "version": "3.7.10"
  }
 },
 "nbformat": 4,
 "nbformat_minor": 5
}
